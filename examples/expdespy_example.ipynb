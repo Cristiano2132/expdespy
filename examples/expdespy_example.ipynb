{
 "cells": [
  {
   "cell_type": "code",
   "execution_count": 1,
   "id": "abf56db3",
   "metadata": {},
   "outputs": [],
   "source": [
    "import matplotlib.pyplot as plt\n",
    "from expdespy.datasets.dic_milho import load_dic_milho\n",
    "from expdespy.datasets.dbc_caprinos import load_dbc_caprinos\n",
    "from expdespy.models import DIC, DBC\n",
    "from expdespy.utils import get_summary\n",
    "from expdespy.posthoc import TukeyHSD, PairwiseTTest\n"
   ]
  },
  {
   "cell_type": "markdown",
   "id": "99b4988f",
   "metadata": {},
   "source": [
    "# DIC (Delineamento Interamente ao Acaso)"
   ]
  },
  {
   "cell_type": "markdown",
   "id": "82483aeb",
   "metadata": {},
   "source": [
    "## Load the data"
   ]
  },
  {
   "cell_type": "code",
   "execution_count": 2,
   "id": "1dc899f7",
   "metadata": {},
   "outputs": [
    {
     "name": "stdout",
     "output_type": "stream",
     "text": [
      "### Exemplo DIC - Milho ###\n",
      "Descrição do dataset DIC:\n",
      "Experimento com 4 variedades de milho (A, B, C, D) distribuídas aleatoriamente em 20 parcelas (5 por variedade). A variável resposta é a produtividade em sacas por hectare. Usado para análise com DIC e testes de comparação múltipla.\n"
     ]
    }
   ],
   "source": [
    "print(\"### Exemplo DIC - Milho ###\")\n",
    "\n",
    "df_dic, desc_dic = load_dic_milho()\n",
    "print(\"Descrição do dataset DIC:\")\n",
    "print(desc_dic)"
   ]
  },
  {
   "cell_type": "code",
   "execution_count": 3,
   "id": "9763553b",
   "metadata": {},
   "outputs": [
    {
     "data": {
      "application/vnd.microsoft.datawrangler.viewer.v0+json": {
       "columns": [
        {
         "name": "index",
         "rawType": "int64",
         "type": "integer"
        },
        {
         "name": "variedade",
         "rawType": "object",
         "type": "string"
        },
        {
         "name": "produtividade",
         "rawType": "int64",
         "type": "integer"
        }
       ],
       "ref": "d3815260-46bf-4dd9-b41c-b0adab155d08",
       "rows": [
        [
         "0",
         "A",
         "25"
        ],
        [
         "1",
         "A",
         "26"
        ],
        [
         "2",
         "A",
         "20"
        ],
        [
         "3",
         "A",
         "23"
        ],
        [
         "4",
         "A",
         "21"
        ],
        [
         "5",
         "B",
         "31"
        ],
        [
         "6",
         "B",
         "25"
        ],
        [
         "7",
         "B",
         "28"
        ],
        [
         "8",
         "B",
         "27"
        ],
        [
         "9",
         "B",
         "24"
        ],
        [
         "10",
         "C",
         "22"
        ],
        [
         "11",
         "C",
         "26"
        ],
        [
         "12",
         "C",
         "28"
        ],
        [
         "13",
         "C",
         "25"
        ],
        [
         "14",
         "C",
         "29"
        ],
        [
         "15",
         "D",
         "33"
        ],
        [
         "16",
         "D",
         "29"
        ],
        [
         "17",
         "D",
         "31"
        ],
        [
         "18",
         "D",
         "34"
        ],
        [
         "19",
         "D",
         "28"
        ]
       ],
       "shape": {
        "columns": 2,
        "rows": 20
       }
      },
      "text/html": [
       "<div>\n",
       "<style scoped>\n",
       "    .dataframe tbody tr th:only-of-type {\n",
       "        vertical-align: middle;\n",
       "    }\n",
       "\n",
       "    .dataframe tbody tr th {\n",
       "        vertical-align: top;\n",
       "    }\n",
       "\n",
       "    .dataframe thead th {\n",
       "        text-align: right;\n",
       "    }\n",
       "</style>\n",
       "<table border=\"1\" class=\"dataframe\">\n",
       "  <thead>\n",
       "    <tr style=\"text-align: right;\">\n",
       "      <th></th>\n",
       "      <th>variedade</th>\n",
       "      <th>produtividade</th>\n",
       "    </tr>\n",
       "  </thead>\n",
       "  <tbody>\n",
       "    <tr>\n",
       "      <th>0</th>\n",
       "      <td>A</td>\n",
       "      <td>25</td>\n",
       "    </tr>\n",
       "    <tr>\n",
       "      <th>1</th>\n",
       "      <td>A</td>\n",
       "      <td>26</td>\n",
       "    </tr>\n",
       "    <tr>\n",
       "      <th>2</th>\n",
       "      <td>A</td>\n",
       "      <td>20</td>\n",
       "    </tr>\n",
       "    <tr>\n",
       "      <th>3</th>\n",
       "      <td>A</td>\n",
       "      <td>23</td>\n",
       "    </tr>\n",
       "    <tr>\n",
       "      <th>4</th>\n",
       "      <td>A</td>\n",
       "      <td>21</td>\n",
       "    </tr>\n",
       "    <tr>\n",
       "      <th>5</th>\n",
       "      <td>B</td>\n",
       "      <td>31</td>\n",
       "    </tr>\n",
       "    <tr>\n",
       "      <th>6</th>\n",
       "      <td>B</td>\n",
       "      <td>25</td>\n",
       "    </tr>\n",
       "    <tr>\n",
       "      <th>7</th>\n",
       "      <td>B</td>\n",
       "      <td>28</td>\n",
       "    </tr>\n",
       "    <tr>\n",
       "      <th>8</th>\n",
       "      <td>B</td>\n",
       "      <td>27</td>\n",
       "    </tr>\n",
       "    <tr>\n",
       "      <th>9</th>\n",
       "      <td>B</td>\n",
       "      <td>24</td>\n",
       "    </tr>\n",
       "    <tr>\n",
       "      <th>10</th>\n",
       "      <td>C</td>\n",
       "      <td>22</td>\n",
       "    </tr>\n",
       "    <tr>\n",
       "      <th>11</th>\n",
       "      <td>C</td>\n",
       "      <td>26</td>\n",
       "    </tr>\n",
       "    <tr>\n",
       "      <th>12</th>\n",
       "      <td>C</td>\n",
       "      <td>28</td>\n",
       "    </tr>\n",
       "    <tr>\n",
       "      <th>13</th>\n",
       "      <td>C</td>\n",
       "      <td>25</td>\n",
       "    </tr>\n",
       "    <tr>\n",
       "      <th>14</th>\n",
       "      <td>C</td>\n",
       "      <td>29</td>\n",
       "    </tr>\n",
       "    <tr>\n",
       "      <th>15</th>\n",
       "      <td>D</td>\n",
       "      <td>33</td>\n",
       "    </tr>\n",
       "    <tr>\n",
       "      <th>16</th>\n",
       "      <td>D</td>\n",
       "      <td>29</td>\n",
       "    </tr>\n",
       "    <tr>\n",
       "      <th>17</th>\n",
       "      <td>D</td>\n",
       "      <td>31</td>\n",
       "    </tr>\n",
       "    <tr>\n",
       "      <th>18</th>\n",
       "      <td>D</td>\n",
       "      <td>34</td>\n",
       "    </tr>\n",
       "    <tr>\n",
       "      <th>19</th>\n",
       "      <td>D</td>\n",
       "      <td>28</td>\n",
       "    </tr>\n",
       "  </tbody>\n",
       "</table>\n",
       "</div>"
      ],
      "text/plain": [
       "   variedade  produtividade\n",
       "0          A             25\n",
       "1          A             26\n",
       "2          A             20\n",
       "3          A             23\n",
       "4          A             21\n",
       "5          B             31\n",
       "6          B             25\n",
       "7          B             28\n",
       "8          B             27\n",
       "9          B             24\n",
       "10         C             22\n",
       "11         C             26\n",
       "12         C             28\n",
       "13         C             25\n",
       "14         C             29\n",
       "15         D             33\n",
       "16         D             29\n",
       "17         D             31\n",
       "18         D             34\n",
       "19         D             28"
      ]
     },
     "execution_count": 3,
     "metadata": {},
     "output_type": "execute_result"
    }
   ],
   "source": [
    "df_dic"
   ]
  },
  {
   "cell_type": "code",
   "execution_count": 4,
   "id": "c9a0000f",
   "metadata": {},
   "outputs": [
    {
     "data": {
      "application/vnd.microsoft.datawrangler.viewer.v0+json": {
       "columns": [
        {
         "name": "index",
         "rawType": "object",
         "type": "string"
        },
        {
         "name": "clumn_dtype",
         "rawType": "object",
         "type": "unknown"
        },
        {
         "name": "na",
         "rawType": "object",
         "type": "unknown"
        },
        {
         "name": "na_pct",
         "rawType": "object",
         "type": "unknown"
        },
        {
         "name": "top_class",
         "rawType": "object",
         "type": "unknown"
        },
        {
         "name": "top_class_pct",
         "rawType": "object",
         "type": "unknown"
        },
        {
         "name": "nunique",
         "rawType": "object",
         "type": "unknown"
        },
        {
         "name": "unique_values",
         "rawType": "object",
         "type": "unknown"
        }
       ],
       "ref": "0828e771-cc1e-4dd9-955b-987d19dd2e1e",
       "rows": [
        [
         "variedade",
         "object",
         "0",
         "0.0",
         "A",
         "25.0",
         "4",
         "['A', 'B', 'C', 'D']"
        ],
        [
         "produtividade",
         "int64",
         "0",
         "0.0",
         "25",
         "15.0",
         "13",
         "..."
        ]
       ],
       "shape": {
        "columns": 7,
        "rows": 2
       }
      },
      "text/html": [
       "<div>\n",
       "<style scoped>\n",
       "    .dataframe tbody tr th:only-of-type {\n",
       "        vertical-align: middle;\n",
       "    }\n",
       "\n",
       "    .dataframe tbody tr th {\n",
       "        vertical-align: top;\n",
       "    }\n",
       "\n",
       "    .dataframe thead th {\n",
       "        text-align: right;\n",
       "    }\n",
       "</style>\n",
       "<table border=\"1\" class=\"dataframe\">\n",
       "  <thead>\n",
       "    <tr style=\"text-align: right;\">\n",
       "      <th></th>\n",
       "      <th>clumn_dtype</th>\n",
       "      <th>na</th>\n",
       "      <th>na_pct</th>\n",
       "      <th>top_class</th>\n",
       "      <th>top_class_pct</th>\n",
       "      <th>nunique</th>\n",
       "      <th>unique_values</th>\n",
       "    </tr>\n",
       "  </thead>\n",
       "  <tbody>\n",
       "    <tr>\n",
       "      <th>variedade</th>\n",
       "      <td>object</td>\n",
       "      <td>0</td>\n",
       "      <td>0.0</td>\n",
       "      <td>A</td>\n",
       "      <td>25.0</td>\n",
       "      <td>4</td>\n",
       "      <td>[A, B, C, D]</td>\n",
       "    </tr>\n",
       "    <tr>\n",
       "      <th>produtividade</th>\n",
       "      <td>int64</td>\n",
       "      <td>0</td>\n",
       "      <td>0.0</td>\n",
       "      <td>25</td>\n",
       "      <td>15.0</td>\n",
       "      <td>13</td>\n",
       "      <td>...</td>\n",
       "    </tr>\n",
       "  </tbody>\n",
       "</table>\n",
       "</div>"
      ],
      "text/plain": [
       "              clumn_dtype na na_pct top_class top_class_pct nunique  \\\n",
       "variedade          object  0    0.0         A          25.0       4   \n",
       "produtividade       int64  0    0.0        25          15.0      13   \n",
       "\n",
       "              unique_values  \n",
       "variedade      [A, B, C, D]  \n",
       "produtividade           ...  "
      ]
     },
     "execution_count": 4,
     "metadata": {},
     "output_type": "execute_result"
    }
   ],
   "source": [
    "get_summary(df_dic)"
   ]
  },
  {
   "cell_type": "code",
   "execution_count": 5,
   "id": "e4264006",
   "metadata": {},
   "outputs": [
    {
     "name": "stdout",
     "output_type": "stream",
     "text": [
      "\n",
      "Tabela ANOVA DIC:\n",
      "              sum_sq    df         F    PR(>F) Signif\n",
      "C(variedade)  163.75   3.0  7.797619  0.001976     **\n",
      "Residual      112.00  16.0       NaN       NaN       \n"
     ]
    }
   ],
   "source": [
    "# Instanciar modelo\n",
    "dic_model = DIC(data=df_dic, response=\"produtividade\", treatment=\"variedade\")\n",
    "\n",
    "# ANOVA\n",
    "anova_result = dic_model.anova()\n",
    "print(\"\\nTabela ANOVA DIC:\")\n",
    "print(anova_result)"
   ]
  },
  {
   "cell_type": "code",
   "execution_count": 6,
   "id": "29903eb0",
   "metadata": {},
   "outputs": [
    {
     "name": "stdout",
     "output_type": "stream",
     "text": [
      "\n",
      "            Normality (Shapiro-Wilk):\n",
      "                - H0: The residuals are normally distributed\n",
      "                - H1: The residuals are not normally distributed\n",
      "            - p-value: 0.23587357658663996\n",
      "            Conclusion: H0 must not be rejected\n",
      "            Homoscedasticity (Levene):\n",
      "                - H0: The variances of the groups are equal\n",
      "                - H1: The variances of the groups are not equal\n",
      "            - p-value: 1.0\n",
      "            Conclusion: H0 must not be rejected\n",
      "            \n",
      "\n",
      "Pressupostos ANOVA:\n",
      "normality (Shapiro-Wilk): H0: The residuals are normally distributed\n",
      "p-value: 0.23587357658663996 > 0.05 => Não rejeitar H0\n",
      "homoscedasticity (Levene): H0: The variances of the groups are equal\n",
      "p-value: 1.0 > 0.05 => Não rejeitar H0\n"
     ]
    }
   ],
   "source": [
    "# Verificar pressupostos\n",
    "alpha = 0.05\n",
    "assumptions = dic_model.check_assumptions(alpha=alpha)\n",
    "print(\"\\nPressupostos ANOVA:\")\n",
    "for test in assumptions:\n",
    "    test_name = test\n",
    "    p_value = assumptions.get(test_name).get(\"p-value\")\n",
    "    h0 = assumptions.get(test_name).get(\"H0\")\n",
    "    print(f\"{test_name}: H0: {h0}\")\n",
    "    if p_value < alpha:\n",
    "        print(f\"p-value: {p_value} < {alpha} => Rejeitar H0\")\n",
    "    else:\n",
    "        print(f\"p-value: {p_value} > {alpha} => Não rejeitar H0\")\n",
    "    \n",
    "    \n"
   ]
  },
  {
   "cell_type": "markdown",
   "id": "1fbfec71",
   "metadata": {},
   "source": [
    "## Post Hoc Analysis - Teste de Tukey"
   ]
  },
  {
   "cell_type": "code",
   "execution_count": 7,
   "id": "6f0c2720",
   "metadata": {},
   "outputs": [
    {
     "data": {
      "application/vnd.microsoft.datawrangler.viewer.v0+json": {
       "columns": [
        {
         "name": "index",
         "rawType": "int64",
         "type": "integer"
        },
        {
         "name": "group1",
         "rawType": "object",
         "type": "string"
        },
        {
         "name": "group2",
         "rawType": "object",
         "type": "string"
        },
        {
         "name": "meandiff",
         "rawType": "float64",
         "type": "float"
        },
        {
         "name": "p-adj",
         "rawType": "float64",
         "type": "float"
        },
        {
         "name": "lower",
         "rawType": "float64",
         "type": "float"
        },
        {
         "name": "upper",
         "rawType": "float64",
         "type": "float"
        },
        {
         "name": "reject",
         "rawType": "bool",
         "type": "boolean"
        }
       ],
       "ref": "04e96765-84a1-407f-9ec4-d19e1706fde4",
       "rows": [
        [
         "0",
         "A",
         "B",
         "4.0",
         "0.1192",
         "-0.7874",
         "8.7874",
         "False"
        ],
        [
         "1",
         "A",
         "C",
         "3.0",
         "0.3123",
         "-1.7874",
         "7.7874",
         "False"
        ],
        [
         "2",
         "A",
         "D",
         "8.0",
         "0.0011",
         "3.2126",
         "12.7874",
         "True"
        ],
        [
         "3",
         "B",
         "C",
         "-1.0",
         "0.9313",
         "-5.7874",
         "3.7874",
         "False"
        ],
        [
         "4",
         "B",
         "D",
         "4.0",
         "0.1192",
         "-0.7874",
         "8.7874",
         "False"
        ],
        [
         "5",
         "C",
         "D",
         "5.0",
         "0.0391",
         "0.2126",
         "9.7874",
         "True"
        ]
       ],
       "shape": {
        "columns": 7,
        "rows": 6
       }
      },
      "text/html": [
       "<div>\n",
       "<style scoped>\n",
       "    .dataframe tbody tr th:only-of-type {\n",
       "        vertical-align: middle;\n",
       "    }\n",
       "\n",
       "    .dataframe tbody tr th {\n",
       "        vertical-align: top;\n",
       "    }\n",
       "\n",
       "    .dataframe thead th {\n",
       "        text-align: right;\n",
       "    }\n",
       "</style>\n",
       "<table border=\"1\" class=\"dataframe\">\n",
       "  <thead>\n",
       "    <tr style=\"text-align: right;\">\n",
       "      <th></th>\n",
       "      <th>group1</th>\n",
       "      <th>group2</th>\n",
       "      <th>meandiff</th>\n",
       "      <th>p-adj</th>\n",
       "      <th>lower</th>\n",
       "      <th>upper</th>\n",
       "      <th>reject</th>\n",
       "    </tr>\n",
       "  </thead>\n",
       "  <tbody>\n",
       "    <tr>\n",
       "      <th>0</th>\n",
       "      <td>A</td>\n",
       "      <td>B</td>\n",
       "      <td>4.0</td>\n",
       "      <td>0.1192</td>\n",
       "      <td>-0.7874</td>\n",
       "      <td>8.7874</td>\n",
       "      <td>False</td>\n",
       "    </tr>\n",
       "    <tr>\n",
       "      <th>1</th>\n",
       "      <td>A</td>\n",
       "      <td>C</td>\n",
       "      <td>3.0</td>\n",
       "      <td>0.3123</td>\n",
       "      <td>-1.7874</td>\n",
       "      <td>7.7874</td>\n",
       "      <td>False</td>\n",
       "    </tr>\n",
       "    <tr>\n",
       "      <th>2</th>\n",
       "      <td>A</td>\n",
       "      <td>D</td>\n",
       "      <td>8.0</td>\n",
       "      <td>0.0011</td>\n",
       "      <td>3.2126</td>\n",
       "      <td>12.7874</td>\n",
       "      <td>True</td>\n",
       "    </tr>\n",
       "    <tr>\n",
       "      <th>3</th>\n",
       "      <td>B</td>\n",
       "      <td>C</td>\n",
       "      <td>-1.0</td>\n",
       "      <td>0.9313</td>\n",
       "      <td>-5.7874</td>\n",
       "      <td>3.7874</td>\n",
       "      <td>False</td>\n",
       "    </tr>\n",
       "    <tr>\n",
       "      <th>4</th>\n",
       "      <td>B</td>\n",
       "      <td>D</td>\n",
       "      <td>4.0</td>\n",
       "      <td>0.1192</td>\n",
       "      <td>-0.7874</td>\n",
       "      <td>8.7874</td>\n",
       "      <td>False</td>\n",
       "    </tr>\n",
       "    <tr>\n",
       "      <th>5</th>\n",
       "      <td>C</td>\n",
       "      <td>D</td>\n",
       "      <td>5.0</td>\n",
       "      <td>0.0391</td>\n",
       "      <td>0.2126</td>\n",
       "      <td>9.7874</td>\n",
       "      <td>True</td>\n",
       "    </tr>\n",
       "  </tbody>\n",
       "</table>\n",
       "</div>"
      ],
      "text/plain": [
       "  group1 group2  meandiff   p-adj   lower    upper  reject\n",
       "0      A      B       4.0  0.1192 -0.7874   8.7874   False\n",
       "1      A      C       3.0  0.3123 -1.7874   7.7874   False\n",
       "2      A      D       8.0  0.0011  3.2126  12.7874    True\n",
       "3      B      C      -1.0  0.9313 -5.7874   3.7874   False\n",
       "4      B      D       4.0  0.1192 -0.7874   8.7874   False\n",
       "5      C      D       5.0  0.0391  0.2126   9.7874    True"
      ]
     },
     "execution_count": 7,
     "metadata": {},
     "output_type": "execute_result"
    }
   ],
   "source": [
    "values_column = 'produtividade'\n",
    "trats_column = 'variedade'\n",
    "\n",
    "\n",
    "tukey_hsd = TukeyHSD(\n",
    "    data=df_dic,\n",
    "    values_column=values_column,\n",
    "    trats_column=trats_column,\n",
    "    alpha = 0.05\n",
    ")\n",
    "tukey_hsd.run()"
   ]
  },
  {
   "cell_type": "code",
   "execution_count": 8,
   "id": "23a6a2f7",
   "metadata": {},
   "outputs": [
    {
     "data": {
      "application/vnd.microsoft.datawrangler.viewer.v0+json": {
       "columns": [
        {
         "name": "index",
         "rawType": "int64",
         "type": "integer"
        },
        {
         "name": "variedade",
         "rawType": "object",
         "type": "string"
        },
        {
         "name": "Mean",
         "rawType": "float64",
         "type": "float"
        },
        {
         "name": "Letters",
         "rawType": "object",
         "type": "string"
        }
       ],
       "ref": "94b99a6c-46ad-4cbe-9698-43894a733f52",
       "rows": [
        [
         "3",
         "D",
         "31.0",
         "a"
        ],
        [
         "1",
         "B",
         "27.0",
         "ab"
        ],
        [
         "2",
         "C",
         "26.0",
         "b"
        ],
        [
         "0",
         "A",
         "23.0",
         "b"
        ]
       ],
       "shape": {
        "columns": 3,
        "rows": 4
       }
      },
      "text/html": [
       "<div>\n",
       "<style scoped>\n",
       "    .dataframe tbody tr th:only-of-type {\n",
       "        vertical-align: middle;\n",
       "    }\n",
       "\n",
       "    .dataframe tbody tr th {\n",
       "        vertical-align: top;\n",
       "    }\n",
       "\n",
       "    .dataframe thead th {\n",
       "        text-align: right;\n",
       "    }\n",
       "</style>\n",
       "<table border=\"1\" class=\"dataframe\">\n",
       "  <thead>\n",
       "    <tr style=\"text-align: right;\">\n",
       "      <th></th>\n",
       "      <th>variedade</th>\n",
       "      <th>Mean</th>\n",
       "      <th>Letters</th>\n",
       "    </tr>\n",
       "  </thead>\n",
       "  <tbody>\n",
       "    <tr>\n",
       "      <th>3</th>\n",
       "      <td>D</td>\n",
       "      <td>31.0</td>\n",
       "      <td>a</td>\n",
       "    </tr>\n",
       "    <tr>\n",
       "      <th>1</th>\n",
       "      <td>B</td>\n",
       "      <td>27.0</td>\n",
       "      <td>ab</td>\n",
       "    </tr>\n",
       "    <tr>\n",
       "      <th>2</th>\n",
       "      <td>C</td>\n",
       "      <td>26.0</td>\n",
       "      <td>b</td>\n",
       "    </tr>\n",
       "    <tr>\n",
       "      <th>0</th>\n",
       "      <td>A</td>\n",
       "      <td>23.0</td>\n",
       "      <td>b</td>\n",
       "    </tr>\n",
       "  </tbody>\n",
       "</table>\n",
       "</div>"
      ],
      "text/plain": [
       "  variedade  Mean Letters\n",
       "3         D  31.0       a\n",
       "1         B  27.0      ab\n",
       "2         C  26.0       b\n",
       "0         A  23.0       b"
      ]
     },
     "execution_count": 8,
     "metadata": {},
     "output_type": "execute_result"
    }
   ],
   "source": [
    "tukey_hsd.run_compact_letters_display()"
   ]
  },
  {
   "cell_type": "code",
   "execution_count": 9,
   "id": "19e2c844",
   "metadata": {},
   "outputs": [
    {
     "data": {
      "image/png": "[encoded data removed]",
      "text/plain": [
       "<Figure size 700x400 with 1 Axes>"
      ]
     },
     "metadata": {},
     "output_type": "display_data"
    }
   ],
   "source": [
    "# Criar o gráfico\n",
    "fig, ax = plt.subplots(figsize=(7, 4))\n",
    "tukey_hsd.plot_compact_letters_display(ax=ax)\n",
    "# Layout\n",
    "plt.xlabel(\"Fertilizer\")\n",
    "plt.ylabel(\"Dry Weight\")\n",
    "plt.title(\"Boxplot with Significance Letters\")\n",
    "\n",
    "\n",
    "plt.tight_layout()\n",
    "plt.show()"
   ]
  },
  {
   "cell_type": "markdown",
   "id": "2bb80b7a",
   "metadata": {},
   "source": [
    "## Post Hoc Analysis - Teste de T"
   ]
  },
  {
   "cell_type": "code",
   "execution_count": 12,
   "id": "2e06a3b4",
   "metadata": {},
   "outputs": [
    {
     "data": {
      "application/vnd.microsoft.datawrangler.viewer.v0+json": {
       "columns": [
        {
         "name": "index",
         "rawType": "int64",
         "type": "integer"
        },
        {
         "name": "variedade",
         "rawType": "object",
         "type": "string"
        },
        {
         "name": "Mean",
         "rawType": "float64",
         "type": "float"
        },
        {
         "name": "Letters",
         "rawType": "object",
         "type": "string"
        }
       ],
       "ref": "ad28d4c4-f5e0-4dc9-9b26-aa48a3e7007f",
       "rows": [
        [
         "3",
         "D",
         "31.0",
         "a"
        ],
        [
         "1",
         "B",
         "27.0",
         "b"
        ],
        [
         "2",
         "C",
         "26.0",
         "bc"
        ],
        [
         "0",
         "A",
         "23.0",
         "c"
        ]
       ],
       "shape": {
        "columns": 3,
        "rows": 4
       }
      },
      "text/html": [
       "<div>\n",
       "<style scoped>\n",
       "    .dataframe tbody tr th:only-of-type {\n",
       "        vertical-align: middle;\n",
       "    }\n",
       "\n",
       "    .dataframe tbody tr th {\n",
       "        vertical-align: top;\n",
       "    }\n",
       "\n",
       "    .dataframe thead th {\n",
       "        text-align: right;\n",
       "    }\n",
       "</style>\n",
       "<table border=\"1\" class=\"dataframe\">\n",
       "  <thead>\n",
       "    <tr style=\"text-align: right;\">\n",
       "      <th></th>\n",
       "      <th>variedade</th>\n",
       "      <th>Mean</th>\n",
       "      <th>Letters</th>\n",
       "    </tr>\n",
       "  </thead>\n",
       "  <tbody>\n",
       "    <tr>\n",
       "      <th>3</th>\n",
       "      <td>D</td>\n",
       "      <td>31.0</td>\n",
       "      <td>a</td>\n",
       "    </tr>\n",
       "    <tr>\n",
       "      <th>1</th>\n",
       "      <td>B</td>\n",
       "      <td>27.0</td>\n",
       "      <td>b</td>\n",
       "    </tr>\n",
       "    <tr>\n",
       "      <th>2</th>\n",
       "      <td>C</td>\n",
       "      <td>26.0</td>\n",
       "      <td>bc</td>\n",
       "    </tr>\n",
       "    <tr>\n",
       "      <th>0</th>\n",
       "      <td>A</td>\n",
       "      <td>23.0</td>\n",
       "      <td>c</td>\n",
       "    </tr>\n",
       "  </tbody>\n",
       "</table>\n",
       "</div>"
      ],
      "text/plain": [
       "  variedade  Mean Letters\n",
       "3         D  31.0       a\n",
       "1         B  27.0       b\n",
       "2         C  26.0      bc\n",
       "0         A  23.0       c"
      ]
     },
     "execution_count": 12,
     "metadata": {},
     "output_type": "execute_result"
    }
   ],
   "source": [
    "t_test = PairwiseTTest(\n",
    "    data=df_dic,\n",
    "    values_column=values_column,\n",
    "    trats_column=trats_column,\n",
    "    alpha = 0.05,\n",
    "    equal_var = True  # Assume variâncias iguais (padrão como no ANOVA\n",
    ")\n",
    "\n",
    "t_test.run_compact_letters_display()"
   ]
  },
  {
   "cell_type": "code",
   "execution_count": null,
   "id": "461111c7",
   "metadata": {},
   "outputs": [
    {
     "data": {
      "image/png": "[encoded data removed]",
      "text/plain": [
       "<Figure size 700x400 with 1 Axes>"
      ]
     },
     "metadata": {},
     "output_type": "display_data"
    }
   ],
   "source": [
    "\n",
    "# Criar o gráfico\n",
    "fig, ax = plt.subplots(figsize=(7, 4))\n",
    "t_test.plot_compact_letters_display(ax=ax)\n",
    "# Layout\n",
    "plt.xlabel(\"Fertilizer\")\n",
    "plt.ylabel(\"Dry Weight\")\n",
    "plt.title(\"Boxplot with Significance Letters\")\n",
    "\n",
    "\n",
    "plt.tight_layout()\n",
    "plt.show()"
   ]
  },
  {
   "cell_type": "code",
   "execution_count": null,
   "id": "6817fc2c",
   "metadata": {},
   "outputs": [],
   "source": []
  }
 ],
 "metadata": {
  "kernelspec": {
   "display_name": ".venv",
   "language": "python",
   "name": "python3"
  },
  "language_info": {
   "codemirror_mode": {
    "name": "ipython",
    "version": 3
   },
   "file_extension": ".py",
   "mimetype": "text/x-python",
   "name": "python",
   "nbconvert_exporter": "python",
   "pygments_lexer": "ipython3",
   "version": "3.10.10"
  }
 },
 "nbformat": 4,
 "nbformat_minor": 5
}

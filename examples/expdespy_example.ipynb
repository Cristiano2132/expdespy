{
 "cells": [
  {
   "cell_type": "code",
   "execution_count": 2,
   "id": "abf56db3",
   "metadata": {},
   "outputs": [],
   "source": [
    "import matplotlib.pyplot as plt\n",
    "from expdespy.datasets.dic_milho import load_dic_milho\n",
    "from expdespy.datasets.dbc_caprinos import load_dbc_caprinos\n",
    "from expdespy.models import DIC, DBC\n",
    "from expdespy.utils import get_summary\n",
    "from expdespy.posthoc import TukeyHSD, PairwiseTTest\n"
   ]
  },
  {
   "cell_type": "markdown",
   "id": "99b4988f",
   "metadata": {},
   "source": [
    "# DIC (Delineamento Interamente ao Acaso)"
   ]
  },
  {
   "cell_type": "markdown",
   "id": "82483aeb",
   "metadata": {},
   "source": [
    "## Load the data"
   ]
  },
  {
   "cell_type": "code",
   "execution_count": 3,
   "id": "1dc899f7",
   "metadata": {},
   "outputs": [
    {
     "name": "stdout",
     "output_type": "stream",
     "text": [
      "### Exemplo DIC - Milho ###\n",
      "Descrição do dataset DIC:\n",
      "{'description': 'Experimento com 4 variedades de milho (A, B, C, D) distribuídas aleatoriamente em 20 parcelas (5 por variedade). A variável resposta é a produtividade em sacas por hectare. Usado para análise com DIC e testes de comparação múltipla.', 'source': 'Fictício', 'response': 'produtividade', 'trat': 'variedade'}\n"
     ]
    }
   ],
   "source": [
    "print(\"### Exemplo DIC - Milho ###\")\n",
    "\n",
    "df_dic, desc_dic = load_dic_milho()\n",
    "print(\"Descrição do dataset DIC:\")\n",
    "print(desc_dic)"
   ]
  },
  {
   "cell_type": "code",
   "execution_count": 4,
   "id": "9763553b",
   "metadata": {},
   "outputs": [
    {
     "data": {
      "application/vnd.microsoft.datawrangler.viewer.v0+json": {
       "columns": [
        {
         "name": "index",
         "rawType": "int64",
         "type": "integer"
        },
        {
         "name": "variedade",
         "rawType": "object",
         "type": "string"
        },
        {
         "name": "produtividade",
         "rawType": "int64",
         "type": "integer"
        }
       ],
       "ref": "e93faddc-eb74-404b-9dd6-49a7167dd85e",
       "rows": [
        [
         "0",
         "A",
         "25"
        ],
        [
         "1",
         "A",
         "26"
        ],
        [
         "2",
         "A",
         "20"
        ],
        [
         "3",
         "A",
         "23"
        ],
        [
         "4",
         "A",
         "21"
        ],
        [
         "5",
         "B",
         "31"
        ],
        [
         "6",
         "B",
         "25"
        ],
        [
         "7",
         "B",
         "28"
        ],
        [
         "8",
         "B",
         "27"
        ],
        [
         "9",
         "B",
         "24"
        ],
        [
         "10",
         "C",
         "22"
        ],
        [
         "11",
         "C",
         "26"
        ],
        [
         "12",
         "C",
         "28"
        ],
        [
         "13",
         "C",
         "25"
        ],
        [
         "14",
         "C",
         "29"
        ],
        [
         "15",
         "D",
         "33"
        ],
        [
         "16",
         "D",
         "29"
        ],
        [
         "17",
         "D",
         "31"
        ],
        [
         "18",
         "D",
         "34"
        ],
        [
         "19",
         "D",
         "28"
        ]
       ],
       "shape": {
        "columns": 2,
        "rows": 20
       }
      },
      "text/html": [
       "<div>\n",
       "<style scoped>\n",
       "    .dataframe tbody tr th:only-of-type {\n",
       "        vertical-align: middle;\n",
       "    }\n",
       "\n",
       "    .dataframe tbody tr th {\n",
       "        vertical-align: top;\n",
       "    }\n",
       "\n",
       "    .dataframe thead th {\n",
       "        text-align: right;\n",
       "    }\n",
       "</style>\n",
       "<table border=\"1\" class=\"dataframe\">\n",
       "  <thead>\n",
       "    <tr style=\"text-align: right;\">\n",
       "      <th></th>\n",
       "      <th>variedade</th>\n",
       "      <th>produtividade</th>\n",
       "    </tr>\n",
       "  </thead>\n",
       "  <tbody>\n",
       "    <tr>\n",
       "      <th>0</th>\n",
       "      <td>A</td>\n",
       "      <td>25</td>\n",
       "    </tr>\n",
       "    <tr>\n",
       "      <th>1</th>\n",
       "      <td>A</td>\n",
       "      <td>26</td>\n",
       "    </tr>\n",
       "    <tr>\n",
       "      <th>2</th>\n",
       "      <td>A</td>\n",
       "      <td>20</td>\n",
       "    </tr>\n",
       "    <tr>\n",
       "      <th>3</th>\n",
       "      <td>A</td>\n",
       "      <td>23</td>\n",
       "    </tr>\n",
       "    <tr>\n",
       "      <th>4</th>\n",
       "      <td>A</td>\n",
       "      <td>21</td>\n",
       "    </tr>\n",
       "    <tr>\n",
       "      <th>5</th>\n",
       "      <td>B</td>\n",
       "      <td>31</td>\n",
       "    </tr>\n",
       "    <tr>\n",
       "      <th>6</th>\n",
       "      <td>B</td>\n",
       "      <td>25</td>\n",
       "    </tr>\n",
       "    <tr>\n",
       "      <th>7</th>\n",
       "      <td>B</td>\n",
       "      <td>28</td>\n",
       "    </tr>\n",
       "    <tr>\n",
       "      <th>8</th>\n",
       "      <td>B</td>\n",
       "      <td>27</td>\n",
       "    </tr>\n",
       "    <tr>\n",
       "      <th>9</th>\n",
       "      <td>B</td>\n",
       "      <td>24</td>\n",
       "    </tr>\n",
       "    <tr>\n",
       "      <th>10</th>\n",
       "      <td>C</td>\n",
       "      <td>22</td>\n",
       "    </tr>\n",
       "    <tr>\n",
       "      <th>11</th>\n",
       "      <td>C</td>\n",
       "      <td>26</td>\n",
       "    </tr>\n",
       "    <tr>\n",
       "      <th>12</th>\n",
       "      <td>C</td>\n",
       "      <td>28</td>\n",
       "    </tr>\n",
       "    <tr>\n",
       "      <th>13</th>\n",
       "      <td>C</td>\n",
       "      <td>25</td>\n",
       "    </tr>\n",
       "    <tr>\n",
       "      <th>14</th>\n",
       "      <td>C</td>\n",
       "      <td>29</td>\n",
       "    </tr>\n",
       "    <tr>\n",
       "      <th>15</th>\n",
       "      <td>D</td>\n",
       "      <td>33</td>\n",
       "    </tr>\n",
       "    <tr>\n",
       "      <th>16</th>\n",
       "      <td>D</td>\n",
       "      <td>29</td>\n",
       "    </tr>\n",
       "    <tr>\n",
       "      <th>17</th>\n",
       "      <td>D</td>\n",
       "      <td>31</td>\n",
       "    </tr>\n",
       "    <tr>\n",
       "      <th>18</th>\n",
       "      <td>D</td>\n",
       "      <td>34</td>\n",
       "    </tr>\n",
       "    <tr>\n",
       "      <th>19</th>\n",
       "      <td>D</td>\n",
       "      <td>28</td>\n",
       "    </tr>\n",
       "  </tbody>\n",
       "</table>\n",
       "</div>"
      ],
      "text/plain": [
       "   variedade  produtividade\n",
       "0          A             25\n",
       "1          A             26\n",
       "2          A             20\n",
       "3          A             23\n",
       "4          A             21\n",
       "5          B             31\n",
       "6          B             25\n",
       "7          B             28\n",
       "8          B             27\n",
       "9          B             24\n",
       "10         C             22\n",
       "11         C             26\n",
       "12         C             28\n",
       "13         C             25\n",
       "14         C             29\n",
       "15         D             33\n",
       "16         D             29\n",
       "17         D             31\n",
       "18         D             34\n",
       "19         D             28"
      ]
     },
     "execution_count": 4,
     "metadata": {},
     "output_type": "execute_result"
    }
   ],
   "source": [
    "df_dic"
   ]
  },
  {
   "cell_type": "code",
   "execution_count": 5,
   "id": "c9a0000f",
   "metadata": {},
   "outputs": [
    {
     "data": {
      "application/vnd.microsoft.datawrangler.viewer.v0+json": {
       "columns": [
        {
         "name": "index",
         "rawType": "object",
         "type": "string"
        },
        {
         "name": "clumn_dtype",
         "rawType": "object",
         "type": "unknown"
        },
        {
         "name": "na",
         "rawType": "object",
         "type": "unknown"
        },
        {
         "name": "na_pct",
         "rawType": "object",
         "type": "unknown"
        },
        {
         "name": "top_class",
         "rawType": "object",
         "type": "unknown"
        },
        {
         "name": "top_class_pct",
         "rawType": "object",
         "type": "unknown"
        },
        {
         "name": "nunique",
         "rawType": "object",
         "type": "unknown"
        },
        {
         "name": "unique_values",
         "rawType": "object",
         "type": "unknown"
        }
       ],
       "ref": "70fe7ff4-0e48-4596-a0e2-6b72f5422de2",
       "rows": [
        [
         "variedade",
         "object",
         "0",
         "0.0",
         "A",
         "25.0",
         "4",
         "['A', 'B', 'C', 'D']"
        ],
        [
         "produtividade",
         "int64",
         "0",
         "0.0",
         "25",
         "15.0",
         "13",
         "..."
        ]
       ],
       "shape": {
        "columns": 7,
        "rows": 2
       }
      },
      "text/html": [
       "<div>\n",
       "<style scoped>\n",
       "    .dataframe tbody tr th:only-of-type {\n",
       "        vertical-align: middle;\n",
       "    }\n",
       "\n",
       "    .dataframe tbody tr th {\n",
       "        vertical-align: top;\n",
       "    }\n",
       "\n",
       "    .dataframe thead th {\n",
       "        text-align: right;\n",
       "    }\n",
       "</style>\n",
       "<table border=\"1\" class=\"dataframe\">\n",
       "  <thead>\n",
       "    <tr style=\"text-align: right;\">\n",
       "      <th></th>\n",
       "      <th>clumn_dtype</th>\n",
       "      <th>na</th>\n",
       "      <th>na_pct</th>\n",
       "      <th>top_class</th>\n",
       "      <th>top_class_pct</th>\n",
       "      <th>nunique</th>\n",
       "      <th>unique_values</th>\n",
       "    </tr>\n",
       "  </thead>\n",
       "  <tbody>\n",
       "    <tr>\n",
       "      <th>variedade</th>\n",
       "      <td>object</td>\n",
       "      <td>0</td>\n",
       "      <td>0.0</td>\n",
       "      <td>A</td>\n",
       "      <td>25.0</td>\n",
       "      <td>4</td>\n",
       "      <td>[A, B, C, D]</td>\n",
       "    </tr>\n",
       "    <tr>\n",
       "      <th>produtividade</th>\n",
       "      <td>int64</td>\n",
       "      <td>0</td>\n",
       "      <td>0.0</td>\n",
       "      <td>25</td>\n",
       "      <td>15.0</td>\n",
       "      <td>13</td>\n",
       "      <td>...</td>\n",
       "    </tr>\n",
       "  </tbody>\n",
       "</table>\n",
       "</div>"
      ],
      "text/plain": [
       "              clumn_dtype na na_pct top_class top_class_pct nunique  \\\n",
       "variedade          object  0    0.0         A          25.0       4   \n",
       "produtividade       int64  0    0.0        25          15.0      13   \n",
       "\n",
       "              unique_values  \n",
       "variedade      [A, B, C, D]  \n",
       "produtividade           ...  "
      ]
     },
     "execution_count": 5,
     "metadata": {},
     "output_type": "execute_result"
    }
   ],
   "source": [
    "get_summary(df_dic)"
   ]
  },
  {
   "cell_type": "code",
   "execution_count": 6,
   "id": "e4264006",
   "metadata": {},
   "outputs": [
    {
     "name": "stdout",
     "output_type": "stream",
     "text": [
      "\n",
      "Tabela ANOVA DIC:\n",
      "              sum_sq    df         F    PR(>F) Signif\n",
      "C(variedade)  163.75   3.0  7.797619  0.001976     **\n",
      "Residual      112.00  16.0       NaN       NaN       \n"
     ]
    }
   ],
   "source": [
    "# Instanciar modelo\n",
    "dic_model = DIC(data=df_dic, response=\"produtividade\", treatment=\"variedade\")\n",
    "\n",
    "# ANOVA\n",
    "anova_result = dic_model.anova()\n",
    "print(\"\\nTabela ANOVA DIC:\")\n",
    "print(anova_result)"
   ]
  },
  {
   "cell_type": "code",
   "execution_count": 8,
   "id": "29903eb0",
   "metadata": {},
   "outputs": [
    {
     "name": "stdout",
     "output_type": "stream",
     "text": [
      "\n",
      "Pressupostos ANOVA:\n",
      "normality (Shapiro-Wilk): H0: The residuals are normally distributed\n",
      "p-value: 0.23587357658663996 > 0.05 => Não rejeitar H0\n",
      "homoscedasticity (Levene): H0: The variances of the groups are equal\n",
      "p-value: 1.0 > 0.05 => Não rejeitar H0\n"
     ]
    }
   ],
   "source": [
    "# Verificar pressupostos\n",
    "alpha = 0.05\n",
    "assumptions = dic_model.check_assumptions(alpha=alpha, print_conclusions=False)\n",
    "print(\"\\nPressupostos ANOVA:\")\n",
    "for test in assumptions:\n",
    "    test_name = test\n",
    "    p_value = assumptions.get(test_name).get(\"p-value\")\n",
    "    h0 = assumptions.get(test_name).get(\"H0\")\n",
    "    print(f\"{test_name}: H0: {h0}\")\n",
    "    if p_value < alpha:\n",
    "        print(f\"p-value: {p_value} < {alpha} => Rejeitar H0\")\n",
    "    else:\n",
    "        print(f\"p-value: {p_value} > {alpha} => Não rejeitar H0\")\n",
    "    \n",
    "    \n"
   ]
  },
  {
   "cell_type": "markdown",
   "id": "1fbfec71",
   "metadata": {},
   "source": [
    "## Post Hoc Analysis - Teste de Tukey"
   ]
  },
  {
   "cell_type": "code",
   "execution_count": 9,
   "id": "6f0c2720",
   "metadata": {},
   "outputs": [
    {
     "data": {
      "application/vnd.microsoft.datawrangler.viewer.v0+json": {
       "columns": [
        {
         "name": "index",
         "rawType": "int64",
         "type": "integer"
        },
        {
         "name": "variedade",
         "rawType": "object",
         "type": "string"
        },
        {
         "name": "Mean",
         "rawType": "float64",
         "type": "float"
        },
        {
         "name": "Letters",
         "rawType": "object",
         "type": "string"
        }
       ],
       "ref": "4d3c93ac-64ce-41d5-b9c2-e4689c1fe5ac",
       "rows": [
        [
         "3",
         "D",
         "31.0",
         "a"
        ],
        [
         "1",
         "B",
         "27.0",
         "ab"
        ],
        [
         "2",
         "C",
         "26.0",
         "b"
        ],
        [
         "0",
         "A",
         "23.0",
         "b"
        ]
       ],
       "shape": {
        "columns": 3,
        "rows": 4
       }
      },
      "text/html": [
       "<div>\n",
       "<style scoped>\n",
       "    .dataframe tbody tr th:only-of-type {\n",
       "        vertical-align: middle;\n",
       "    }\n",
       "\n",
       "    .dataframe tbody tr th {\n",
       "        vertical-align: top;\n",
       "    }\n",
       "\n",
       "    .dataframe thead th {\n",
       "        text-align: right;\n",
       "    }\n",
       "</style>\n",
       "<table border=\"1\" class=\"dataframe\">\n",
       "  <thead>\n",
       "    <tr style=\"text-align: right;\">\n",
       "      <th></th>\n",
       "      <th>variedade</th>\n",
       "      <th>Mean</th>\n",
       "      <th>Letters</th>\n",
       "    </tr>\n",
       "  </thead>\n",
       "  <tbody>\n",
       "    <tr>\n",
       "      <th>3</th>\n",
       "      <td>D</td>\n",
       "      <td>31.0</td>\n",
       "      <td>a</td>\n",
       "    </tr>\n",
       "    <tr>\n",
       "      <th>1</th>\n",
       "      <td>B</td>\n",
       "      <td>27.0</td>\n",
       "      <td>ab</td>\n",
       "    </tr>\n",
       "    <tr>\n",
       "      <th>2</th>\n",
       "      <td>C</td>\n",
       "      <td>26.0</td>\n",
       "      <td>b</td>\n",
       "    </tr>\n",
       "    <tr>\n",
       "      <th>0</th>\n",
       "      <td>A</td>\n",
       "      <td>23.0</td>\n",
       "      <td>b</td>\n",
       "    </tr>\n",
       "  </tbody>\n",
       "</table>\n",
       "</div>"
      ],
      "text/plain": [
       "  variedade  Mean Letters\n",
       "3         D  31.0       a\n",
       "1         B  27.0      ab\n",
       "2         C  26.0       b\n",
       "0         A  23.0       b"
      ]
     },
     "execution_count": 9,
     "metadata": {},
     "output_type": "execute_result"
    }
   ],
   "source": [
    "values_column = 'produtividade'\n",
    "trats_column = 'variedade'\n",
    "\n",
    "\n",
    "tukey_hsd = TukeyHSD(\n",
    "    data=df_dic,\n",
    "    values_column=values_column,\n",
    "    trats_column=trats_column,\n",
    "    alpha = 0.05\n",
    ")\n",
    "tukey_hsd.run_compact_letters_display()"
   ]
  },
  {
   "cell_type": "code",
   "execution_count": null,
   "id": "19e2c844",
   "metadata": {},
   "outputs": [
    {
     "data": {
      "image/png": "[encoded data removed]",
      "text/plain": [
       "<Figure size 700x400 with 1 Axes>"
      ]
     },
     "metadata": {},
     "output_type": "display_data"
    }
   ],
   "source": [
    "# Criar o gráfico\n",
    "fig, ax = plt.subplots(figsize=(7, 4))\n",
    "tukey_hsd.plot_compact_letters_display(ax=ax)\n",
    "# Layout\n",
    "plt.xlabel(\"Fertilizer\")\n",
    "plt.ylabel(\"Dry Weight\")\n",
    "plt.title(\"Boxplot with Significance Letters\")\n",
    "\n",
    "\n",
    "plt.tight_layout()\n",
    "plt.show()"
   ]
  },
  {
   "cell_type": "markdown",
   "id": "2bb80b7a",
   "metadata": {},
   "source": [
    "## Post Hoc Analysis - Teste de T"
   ]
  },
  {
   "cell_type": "code",
   "execution_count": 14,
   "id": "2e06a3b4",
   "metadata": {},
   "outputs": [
    {
     "data": {
      "application/vnd.microsoft.datawrangler.viewer.v0+json": {
       "columns": [
        {
         "name": "index",
         "rawType": "int64",
         "type": "integer"
        },
        {
         "name": "variedade",
         "rawType": "object",
         "type": "string"
        },
        {
         "name": "Mean",
         "rawType": "float64",
         "type": "float"
        },
        {
         "name": "Letters",
         "rawType": "object",
         "type": "string"
        }
       ],
       "ref": "42ddb8a1-9a53-49fc-a6c6-f527e5163ec4",
       "rows": [
        [
         "3",
         "D",
         "31.0",
         "a"
        ],
        [
         "1",
         "B",
         "27.0",
         "b"
        ],
        [
         "2",
         "C",
         "26.0",
         "bc"
        ],
        [
         "0",
         "A",
         "23.0",
         "c"
        ]
       ],
       "shape": {
        "columns": 3,
        "rows": 4
       }
      },
      "text/html": [
       "<div>\n",
       "<style scoped>\n",
       "    .dataframe tbody tr th:only-of-type {\n",
       "        vertical-align: middle;\n",
       "    }\n",
       "\n",
       "    .dataframe tbody tr th {\n",
       "        vertical-align: top;\n",
       "    }\n",
       "\n",
       "    .dataframe thead th {\n",
       "        text-align: right;\n",
       "    }\n",
       "</style>\n",
       "<table border=\"1\" class=\"dataframe\">\n",
       "  <thead>\n",
       "    <tr style=\"text-align: right;\">\n",
       "      <th></th>\n",
       "      <th>variedade</th>\n",
       "      <th>Mean</th>\n",
       "      <th>Letters</th>\n",
       "    </tr>\n",
       "  </thead>\n",
       "  <tbody>\n",
       "    <tr>\n",
       "      <th>3</th>\n",
       "      <td>D</td>\n",
       "      <td>31.0</td>\n",
       "      <td>a</td>\n",
       "    </tr>\n",
       "    <tr>\n",
       "      <th>1</th>\n",
       "      <td>B</td>\n",
       "      <td>27.0</td>\n",
       "      <td>b</td>\n",
       "    </tr>\n",
       "    <tr>\n",
       "      <th>2</th>\n",
       "      <td>C</td>\n",
       "      <td>26.0</td>\n",
       "      <td>bc</td>\n",
       "    </tr>\n",
       "    <tr>\n",
       "      <th>0</th>\n",
       "      <td>A</td>\n",
       "      <td>23.0</td>\n",
       "      <td>c</td>\n",
       "    </tr>\n",
       "  </tbody>\n",
       "</table>\n",
       "</div>"
      ],
      "text/plain": [
       "  variedade  Mean Letters\n",
       "3         D  31.0       a\n",
       "1         B  27.0       b\n",
       "2         C  26.0      bc\n",
       "0         A  23.0       c"
      ]
     },
     "execution_count": 14,
     "metadata": {},
     "output_type": "execute_result"
    }
   ],
   "source": [
    "t_test = PairwiseTTest(\n",
    "    data=df_dic,\n",
    "    values_column=values_column,\n",
    "    trats_column=trats_column,\n",
    "    alpha = 0.05,\n",
    "    equal_var = True  # Assume variâncias iguais (padrão como no ANOVA\n",
    ")\n",
    "\n",
    "t_test.run_compact_letters_display()"
   ]
  },
  {
   "cell_type": "code",
   "execution_count": 15,
   "id": "461111c7",
   "metadata": {},
   "outputs": [
    {
     "data": {
      "image/png": "[encoded data removed]",
      "text/plain": [
       "<Figure size 700x400 with 1 Axes>"
      ]
     },
     "metadata": {},
     "output_type": "display_data"
    }
   ],
   "source": [
    "\n",
    "# Criar o gráfico\n",
    "fig, ax = plt.subplots(figsize=(7, 4))\n",
    "t_test.plot_compact_letters_display(ax=ax)\n",
    "# Layout\n",
    "plt.xlabel(\"Fertilizer\")\n",
    "plt.ylabel(\"Dry Weight\")\n",
    "plt.title(\"Boxplot with Significance Letters\")\n",
    "\n",
    "\n",
    "plt.tight_layout()\n",
    "plt.show()"
   ]
  },
  {
   "cell_type": "markdown",
   "id": "6817fc2c",
   "metadata": {},
   "source": [
    "# Fatorial"
   ]
  },
  {
   "cell_type": "code",
   "execution_count": 5,
   "id": "6dfeb525",
   "metadata": {},
   "outputs": [
    {
     "name": "stdout",
     "output_type": "stream",
     "text": [
      "\n",
      "==================================================\n",
      "📊 ANOVA PRINCIPAL\n",
      "==================================================\n",
      "+-------------+--------+-----+---------+--------+--------+\n",
      "|             | sum_sq | df  |    F    | PR(>F) | Signif |\n",
      "+-------------+--------+-----+---------+--------+--------+\n",
      "|    C(f1)    | 1200.0 | 1.0 | 88.8889 |  0.0   |  ***   |\n",
      "|    C(f2)    | 588.0  | 1.0 | 43.5556 | 0.0002 |  ***   |\n",
      "| C(f1):C(f2) | 300.0  | 1.0 | 22.2222 | 0.0015 |   **   |\n",
      "|  Residual   | 108.0  | 8.0 |   nan   |  nan   |        |\n",
      "+-------------+--------+-----+---------+--------+--------+\n",
      "\n",
      "==================================================\n",
      "🔬 DESDOBRAMENTOS DE INTERAÇÕES SIGNIFICATIVAS\n",
      "==================================================\n",
      "\n",
      "🧩 f1 dentro de f2=0\n",
      "- ANOVA:\n",
      "|          |   sum_sq |   df |        F |   PR(>F) |\n",
      "|----------|----------|------|----------|----------|\n",
      "| C(f1)    |      150 |    1 |  13.6364 |    0.021 |\n",
      "| Residual |       44 |    4 | nan      |  nan     |\n",
      "\n",
      "- Post hoc:\n",
      "   f1  Mean Letters\n",
      "1   1  38.0       a\n",
      "0   0  28.0       b\n",
      "\n",
      "🧩 f1 dentro de f2=1\n",
      "- ANOVA:\n",
      "|          |   sum_sq |   df |       F |   PR(>F) |\n",
      "|----------|----------|------|---------|----------|\n",
      "| C(f1)    |     1350 |    1 |  84.375 |   0.0008 |\n",
      "| Residual |       64 |    4 | nan     | nan      |\n",
      "\n",
      "- Post hoc:\n",
      "   f1  Mean Letters\n",
      "1   1  62.0       a\n",
      "0   0  32.0       b\n",
      "\n",
      "🧩 f2 dentro de f1=0\n",
      "- ANOVA:\n",
      "|          |   sum_sq |   df |        F |   PR(>F) |\n",
      "|----------|----------|------|----------|----------|\n",
      "| C(f2)    |       24 |    1 |   1.8462 |   0.2458 |\n",
      "| Residual |       52 |    4 | nan      | nan      |\n",
      "\n",
      "- Post hoc:\n",
      "   f2  Mean Letters\n",
      "1   1  32.0       a\n",
      "0   0  28.0       a\n",
      "\n",
      "🧩 f2 dentro de f1=1\n",
      "- ANOVA:\n",
      "|          |   sum_sq |   df |        F |   PR(>F) |\n",
      "|----------|----------|------|----------|----------|\n",
      "| C(f2)    |      864 |    1 |  61.7143 |   0.0014 |\n",
      "| Residual |       56 |    4 | nan      | nan      |\n",
      "\n",
      "- Post hoc:\n",
      "   f2  Mean Letters\n",
      "1   1  62.0       a\n",
      "0   0  38.0       b\n"
     ]
    }
   ],
   "source": [
    "from expdespy.datasets import load_fatorial_dic\n",
    "from expdespy.models import FatorialDIC\n",
    "\n",
    "df, desc = load_fatorial_dic()\n",
    "model = FatorialDIC(data=df, response=desc['response'], factors=desc['factors'])\n",
    "\n",
    "result = model.unfold_interactions(alpha=0.05, posthoc=\"ttest\", print_results=False)\n",
    "model.display_unfolded_interactions(result)\n",
    "#"
   ]
  },
  {
   "cell_type": "code",
   "execution_count": 4,
   "id": "d1ea391d",
   "metadata": {},
   "outputs": [
    {
     "name": "stdout",
     "output_type": "stream",
     "text": [
      "\n",
      "==================================================\n",
      "📊 ANOVA PRINCIPAL\n",
      "==================================================\n",
      "+-----------------+----------+------+----------+--------+--------+\n",
      "|                 |  sum_sq  |  df  |    F     | PR(>F) | Signif |\n",
      "+-----------------+----------+------+----------+--------+--------+\n",
      "|      C(A)       | 627.3805 | 1.0  | 167.9096 |  0.0   |  ***   |\n",
      "|      C(B)       | 236.243  | 1.0  | 63.2271  |  0.0   |  ***   |\n",
      "|      C(C_)      | 20.8764  | 1.0  |  5.5873  | 0.0311 |   *    |\n",
      "|    C(A):C(B)    |  36.456  | 1.0  |  9.7569  | 0.0065 |   **   |\n",
      "|   C(A):C(C_)    |  2.1867  | 1.0  |  0.5852  | 0.4554 |   ns   |\n",
      "|   C(B):C(C_)    | 20.8173  | 1.0  |  5.5715  | 0.0313 |   *    |\n",
      "| C(A):C(B):C(C_) |  0.0507  | 1.0  |  0.0136  | 0.9088 |   ns   |\n",
      "|    Residual     | 59.7827  | 16.0 |   nan    |  nan   |        |\n",
      "+-----------------+----------+------+----------+--------+--------+\n",
      "\n",
      "==================================================\n",
      "🔬 DESDOBRAMENTOS DE INTERAÇÕES SIGNIFICATIVAS\n",
      "==================================================\n",
      "\n",
      "🧩 A dentro de B=0\n",
      "- ANOVA:\n",
      "|          |   sum_sq |   df |        F |   PR(>F) |\n",
      "|----------|----------|------|----------|----------|\n",
      "| C(A)     | 180.684  |    1 |  26.6446 |   0.0004 |\n",
      "| Residual |  67.8128 |   10 | nan      | nan      |\n",
      "\n",
      "- Post hoc:\n",
      "   A      Mean Letters\n",
      "1  1  9.947631       a\n",
      "0  0  2.186959       a\n",
      "\n",
      "🧩 A dentro de B=1\n",
      "- ANOVA:\n",
      "|          |   sum_sq |   df |       F |   PR(>F) |\n",
      "|----------|----------|------|---------|----------|\n",
      "| C(A)     |  483.152 |    1 | 134.579 |        0 |\n",
      "| Residual |   35.901 |   10 | nan     |      nan |\n",
      "\n",
      "- Post hoc:\n",
      "   A       Mean Letters\n",
      "1  1  18.687442       a\n",
      "0  0   5.996862       a\n",
      "\n",
      "🧩 B dentro de A=0\n",
      "- ANOVA:\n",
      "|          |   sum_sq |   df |        F |   PR(>F) |\n",
      "|----------|----------|------|----------|----------|\n",
      "| C(B)     |  43.5461 |    1 |  12.4321 |   0.0055 |\n",
      "| Residual |  35.027  |   10 | nan      | nan      |\n",
      "\n",
      "- Post hoc:\n",
      "   B      Mean Letters\n",
      "1  1  5.996862       a\n",
      "0  0  2.186959       a\n",
      "\n",
      "🧩 B dentro de A=1\n",
      "- ANOVA:\n",
      "|          |   sum_sq |   df |       F |   PR(>F) |\n",
      "|----------|----------|------|---------|----------|\n",
      "| C(B)     | 229.153  |    1 |  33.362 |   0.0002 |\n",
      "| Residual |  68.6868 |   10 | nan     | nan      |\n",
      "\n",
      "- Post hoc:\n",
      "   B       Mean Letters\n",
      "1  1  18.687442       a\n",
      "0  0   9.947631       a\n",
      "\n",
      "🧩 B dentro de C_=0\n",
      "- ANOVA:\n",
      "|          |   sum_sq |   df |        F |   PR(>F) |\n",
      "|----------|----------|------|----------|----------|\n",
      "| C(B)     |  198.658 |    1 |   5.8852 |   0.0357 |\n",
      "| Residual |  337.557 |   10 | nan      | nan      |\n",
      "\n",
      "- Post hoc:\n",
      "   B       Mean Letters\n",
      "1  1  12.340831       a\n",
      "0  0   4.203301       a\n",
      "\n",
      "🧩 B dentro de C_=1\n",
      "- ANOVA:\n",
      "|          |   sum_sq |   df |       F |   PR(>F) |\n",
      "|----------|----------|------|---------|----------|\n",
      "| C(B)     |  58.4021 |    1 |   1.504 |   0.2481 |\n",
      "| Residual | 388.3    |   10 | nan     | nan      |\n",
      "\n",
      "- Post hoc:\n",
      "   B       Mean Letters\n",
      "1  1  12.343472       a\n",
      "0  0   7.931289       a\n",
      "\n",
      "🧩 C_ dentro de B=0\n",
      "- ANOVA:\n",
      "|          |   sum_sq |   df |        F |   PR(>F) |\n",
      "|----------|----------|------|----------|----------|\n",
      "| C(C_)    |  41.6937 |    1 |   2.0161 |   0.1861 |\n",
      "| Residual | 206.803  |   10 | nan      | nan      |\n",
      "\n",
      "- Post hoc:\n",
      "   C_      Mean Letters\n",
      "1   1  7.931289       a\n",
      "0   0  4.203301       a\n",
      "\n",
      "🧩 C_ dentro de B=1\n",
      "- ANOVA:\n",
      "|          |   sum_sq |   df |   F |   PR(>F) |\n",
      "|----------|----------|------|-----|----------|\n",
      "| C(C_)    |    0     |    1 |   0 |   0.9995 |\n",
      "| Residual |  519.053 |   10 | nan | nan      |\n",
      "\n",
      "- Post hoc:\n",
      "   C_       Mean Letters\n",
      "1   1  12.343472       a\n",
      "0   0  12.340831       a\n"
     ]
    }
   ],
   "source": [
    "import pandas as pd\n",
    "import numpy as np\n",
    "from itertools import product\n",
    "from expdespy.models import FatorialDIC\n",
    "\n",
    "# Simulando fatores com 2 níveis cada e 3 repetições\n",
    "levels = [0, 1]\n",
    "replicates = 3\n",
    "\n",
    "combinations = list(product(levels, levels, levels))\n",
    "data = []\n",
    "np.random.seed(42)\n",
    "\n",
    "for a, b, c in combinations:\n",
    "    for _ in range(replicates):\n",
    "        # Cria uma resposta com efeito aditivo e alguma interação\n",
    "        y = (\n",
    "            10 * a + 5 * b + 3 * c + \n",
    "            4 * a * b - 2 * b * c + \n",
    "            np.random.normal(0, 2)\n",
    "        )\n",
    "        data.append([a, b, c, y])\n",
    "\n",
    "df = pd.DataFrame(data, columns=[\"A\", \"B\", \"C_\", \"Y\"])\n",
    "\n",
    "\n",
    "model = FatorialDIC(data=df, response=\"Y\", factors=[\"A\", \"B\", \"C_\"])\n",
    "result = model.unfold_interactions(alpha=0.05, posthoc=\"tukey\", print_results=False, max_interaction=3)\n",
    "model.display_unfolded_interactions(result)"
   ]
  },
  {
   "cell_type": "code",
   "execution_count": 1,
   "id": "6fb89eb0",
   "metadata": {},
   "outputs": [
    {
     "name": "stdout",
     "output_type": "stream",
     "text": [
      "📊 Tabela ANOVA:\n",
      "                         sum_sq    df           F        PR(>F) Signif\n",
      "C(cultivar)            0.026667   1.0    0.676056  4.217068e-01     ns\n",
      "C(adubo)              38.415833   2.0  486.961268  2.133795e-16    ***\n",
      "C(cultivar):C(adubo)   0.985833   2.0   12.496479  3.952543e-04    ***\n",
      "Residual               0.710000  18.0         NaN           NaN       \n",
      "\n",
      "✅ Verificação de pressupostos:\n"
     ]
    },
    {
     "ename": "KeyError",
     "evalue": "'C(cultivar) * C(adubo)'",
     "output_type": "error",
     "traceback": [
      "\u001b[31m---------------------------------------------------------------------------\u001b[39m",
      "\u001b[31mKeyError\u001b[39m                                  Traceback (most recent call last)",
      "\u001b[36mCell\u001b[39m\u001b[36m \u001b[39m\u001b[32mIn[1]\u001b[39m\u001b[32m, line 57\u001b[39m\n\u001b[32m     55\u001b[39m \u001b[38;5;66;03m# ✅ 5. Verificação de pressupostos\u001b[39;00m\n\u001b[32m     56\u001b[39m \u001b[38;5;28mprint\u001b[39m(\u001b[33m\"\u001b[39m\u001b[38;5;130;01m\\n\u001b[39;00m\u001b[33m✅ Verificação de pressupostos:\u001b[39m\u001b[33m\"\u001b[39m)\n\u001b[32m---> \u001b[39m\u001b[32m57\u001b[39m assumptions = \u001b[43mmodel\u001b[49m\u001b[43m.\u001b[49m\u001b[43mcheck_assumptions\u001b[49m\u001b[43m(\u001b[49m\u001b[43m)\u001b[49m\n\u001b[32m     59\u001b[39m \u001b[38;5;66;03m# 🔬 6. Desdobramento de interações e teste post hoc\u001b[39;00m\n\u001b[32m     60\u001b[39m \u001b[38;5;28mprint\u001b[39m(\u001b[33m\"\u001b[39m\u001b[38;5;130;01m\\n\u001b[39;00m\u001b[33m🔍 Desdobramento das interações:\u001b[39m\u001b[33m\"\u001b[39m)\n",
      "\u001b[36mFile \u001b[39m\u001b[32m~/Documents/expdespy/src/expdespy/models/base.py:99\u001b[39m, in \u001b[36mExperimentalDesign.check_assumptions\u001b[39m\u001b[34m(self, alpha, print_conclusions)\u001b[39m\n\u001b[32m     94\u001b[39m normality_p = stats.shapiro(residuals).pvalue\n\u001b[32m     95\u001b[39m is_normal = normality_p > alpha\n\u001b[32m     97\u001b[39m groups = [\n\u001b[32m     98\u001b[39m     group[\u001b[38;5;28mself\u001b[39m.response].values\n\u001b[32m---> \u001b[39m\u001b[32m99\u001b[39m     \u001b[38;5;28;01mfor\u001b[39;00m _, group \u001b[38;5;129;01min\u001b[39;00m \u001b[38;5;28;43mself\u001b[39;49m\u001b[43m.\u001b[49m\u001b[43mdata\u001b[49m\u001b[43m.\u001b[49m\u001b[43mgroupby\u001b[49m\u001b[43m(\u001b[49m\u001b[38;5;28;43mself\u001b[39;49m\u001b[43m.\u001b[49m\u001b[43mtreatment\u001b[49m\u001b[43m)\u001b[49m\n\u001b[32m    100\u001b[39m ]\n\u001b[32m    101\u001b[39m levene_p = stats.levene(*groups).pvalue\n\u001b[32m    102\u001b[39m is_homoscedastic = levene_p > alpha\n",
      "\u001b[36mFile \u001b[39m\u001b[32m~/Documents/expdespy/.venv/lib/python3.11/site-packages/pandas/core/frame.py:9183\u001b[39m, in \u001b[36mDataFrame.groupby\u001b[39m\u001b[34m(self, by, axis, level, as_index, sort, group_keys, observed, dropna)\u001b[39m\n\u001b[32m   9180\u001b[39m \u001b[38;5;28;01mif\u001b[39;00m level \u001b[38;5;129;01mis\u001b[39;00m \u001b[38;5;28;01mNone\u001b[39;00m \u001b[38;5;129;01mand\u001b[39;00m by \u001b[38;5;129;01mis\u001b[39;00m \u001b[38;5;28;01mNone\u001b[39;00m:\n\u001b[32m   9181\u001b[39m     \u001b[38;5;28;01mraise\u001b[39;00m \u001b[38;5;167;01mTypeError\u001b[39;00m(\u001b[33m\"\u001b[39m\u001b[33mYou have to supply one of \u001b[39m\u001b[33m'\u001b[39m\u001b[33mby\u001b[39m\u001b[33m'\u001b[39m\u001b[33m and \u001b[39m\u001b[33m'\u001b[39m\u001b[33mlevel\u001b[39m\u001b[33m'\u001b[39m\u001b[33m\"\u001b[39m)\n\u001b[32m-> \u001b[39m\u001b[32m9183\u001b[39m \u001b[38;5;28;01mreturn\u001b[39;00m \u001b[43mDataFrameGroupBy\u001b[49m\u001b[43m(\u001b[49m\n\u001b[32m   9184\u001b[39m \u001b[43m    \u001b[49m\u001b[43mobj\u001b[49m\u001b[43m=\u001b[49m\u001b[38;5;28;43mself\u001b[39;49m\u001b[43m,\u001b[49m\n\u001b[32m   9185\u001b[39m \u001b[43m    \u001b[49m\u001b[43mkeys\u001b[49m\u001b[43m=\u001b[49m\u001b[43mby\u001b[49m\u001b[43m,\u001b[49m\n\u001b[32m   9186\u001b[39m \u001b[43m    \u001b[49m\u001b[43maxis\u001b[49m\u001b[43m=\u001b[49m\u001b[43maxis\u001b[49m\u001b[43m,\u001b[49m\n\u001b[32m   9187\u001b[39m \u001b[43m    \u001b[49m\u001b[43mlevel\u001b[49m\u001b[43m=\u001b[49m\u001b[43mlevel\u001b[49m\u001b[43m,\u001b[49m\n\u001b[32m   9188\u001b[39m \u001b[43m    \u001b[49m\u001b[43mas_index\u001b[49m\u001b[43m=\u001b[49m\u001b[43mas_index\u001b[49m\u001b[43m,\u001b[49m\n\u001b[32m   9189\u001b[39m \u001b[43m    \u001b[49m\u001b[43msort\u001b[49m\u001b[43m=\u001b[49m\u001b[43msort\u001b[49m\u001b[43m,\u001b[49m\n\u001b[32m   9190\u001b[39m \u001b[43m    \u001b[49m\u001b[43mgroup_keys\u001b[49m\u001b[43m=\u001b[49m\u001b[43mgroup_keys\u001b[49m\u001b[43m,\u001b[49m\n\u001b[32m   9191\u001b[39m \u001b[43m    \u001b[49m\u001b[43mobserved\u001b[49m\u001b[43m=\u001b[49m\u001b[43mobserved\u001b[49m\u001b[43m,\u001b[49m\n\u001b[32m   9192\u001b[39m \u001b[43m    \u001b[49m\u001b[43mdropna\u001b[49m\u001b[43m=\u001b[49m\u001b[43mdropna\u001b[49m\u001b[43m,\u001b[49m\n\u001b[32m   9193\u001b[39m \u001b[43m\u001b[49m\u001b[43m)\u001b[49m\n",
      "\u001b[36mFile \u001b[39m\u001b[32m~/Documents/expdespy/.venv/lib/python3.11/site-packages/pandas/core/groupby/groupby.py:1329\u001b[39m, in \u001b[36mGroupBy.__init__\u001b[39m\u001b[34m(self, obj, keys, axis, level, grouper, exclusions, selection, as_index, sort, group_keys, observed, dropna)\u001b[39m\n\u001b[32m   1326\u001b[39m \u001b[38;5;28mself\u001b[39m.dropna = dropna\n\u001b[32m   1328\u001b[39m \u001b[38;5;28;01mif\u001b[39;00m grouper \u001b[38;5;129;01mis\u001b[39;00m \u001b[38;5;28;01mNone\u001b[39;00m:\n\u001b[32m-> \u001b[39m\u001b[32m1329\u001b[39m     grouper, exclusions, obj = \u001b[43mget_grouper\u001b[49m\u001b[43m(\u001b[49m\n\u001b[32m   1330\u001b[39m \u001b[43m        \u001b[49m\u001b[43mobj\u001b[49m\u001b[43m,\u001b[49m\n\u001b[32m   1331\u001b[39m \u001b[43m        \u001b[49m\u001b[43mkeys\u001b[49m\u001b[43m,\u001b[49m\n\u001b[32m   1332\u001b[39m \u001b[43m        \u001b[49m\u001b[43maxis\u001b[49m\u001b[43m=\u001b[49m\u001b[43maxis\u001b[49m\u001b[43m,\u001b[49m\n\u001b[32m   1333\u001b[39m \u001b[43m        \u001b[49m\u001b[43mlevel\u001b[49m\u001b[43m=\u001b[49m\u001b[43mlevel\u001b[49m\u001b[43m,\u001b[49m\n\u001b[32m   1334\u001b[39m \u001b[43m        \u001b[49m\u001b[43msort\u001b[49m\u001b[43m=\u001b[49m\u001b[43msort\u001b[49m\u001b[43m,\u001b[49m\n\u001b[32m   1335\u001b[39m \u001b[43m        \u001b[49m\u001b[43mobserved\u001b[49m\u001b[43m=\u001b[49m\u001b[38;5;28;43;01mFalse\u001b[39;49;00m\u001b[43m \u001b[49m\u001b[38;5;28;43;01mif\u001b[39;49;00m\u001b[43m \u001b[49m\u001b[43mobserved\u001b[49m\u001b[43m \u001b[49m\u001b[38;5;129;43;01mis\u001b[39;49;00m\u001b[43m \u001b[49m\u001b[43mlib\u001b[49m\u001b[43m.\u001b[49m\u001b[43mno_default\u001b[49m\u001b[43m \u001b[49m\u001b[38;5;28;43;01melse\u001b[39;49;00m\u001b[43m \u001b[49m\u001b[43mobserved\u001b[49m\u001b[43m,\u001b[49m\n\u001b[32m   1336\u001b[39m \u001b[43m        \u001b[49m\u001b[43mdropna\u001b[49m\u001b[43m=\u001b[49m\u001b[38;5;28;43mself\u001b[39;49m\u001b[43m.\u001b[49m\u001b[43mdropna\u001b[49m\u001b[43m,\u001b[49m\n\u001b[32m   1337\u001b[39m \u001b[43m    \u001b[49m\u001b[43m)\u001b[49m\n\u001b[32m   1339\u001b[39m \u001b[38;5;28;01mif\u001b[39;00m observed \u001b[38;5;129;01mis\u001b[39;00m lib.no_default:\n\u001b[32m   1340\u001b[39m     \u001b[38;5;28;01mif\u001b[39;00m \u001b[38;5;28many\u001b[39m(ping._passed_categorical \u001b[38;5;28;01mfor\u001b[39;00m ping \u001b[38;5;129;01min\u001b[39;00m grouper.groupings):\n",
      "\u001b[36mFile \u001b[39m\u001b[32m~/Documents/expdespy/.venv/lib/python3.11/site-packages/pandas/core/groupby/grouper.py:1043\u001b[39m, in \u001b[36mget_grouper\u001b[39m\u001b[34m(obj, key, axis, level, sort, observed, validate, dropna)\u001b[39m\n\u001b[32m   1041\u001b[39m         in_axis, level, gpr = \u001b[38;5;28;01mFalse\u001b[39;00m, gpr, \u001b[38;5;28;01mNone\u001b[39;00m\n\u001b[32m   1042\u001b[39m     \u001b[38;5;28;01melse\u001b[39;00m:\n\u001b[32m-> \u001b[39m\u001b[32m1043\u001b[39m         \u001b[38;5;28;01mraise\u001b[39;00m \u001b[38;5;167;01mKeyError\u001b[39;00m(gpr)\n\u001b[32m   1044\u001b[39m \u001b[38;5;28;01melif\u001b[39;00m \u001b[38;5;28misinstance\u001b[39m(gpr, Grouper) \u001b[38;5;129;01mand\u001b[39;00m gpr.key \u001b[38;5;129;01mis\u001b[39;00m \u001b[38;5;129;01mnot\u001b[39;00m \u001b[38;5;28;01mNone\u001b[39;00m:\n\u001b[32m   1045\u001b[39m     \u001b[38;5;66;03m# Add key to exclusions\u001b[39;00m\n\u001b[32m   1046\u001b[39m     exclusions.add(gpr.key)\n",
      "\u001b[31mKeyError\u001b[39m: 'C(cultivar) * C(adubo)'"
     ]
    }
   ],
   "source": [
    "import pandas as pd\n",
    "from expdespy.models import SplitPlotDIC\n",
    "\n",
    "# 🔢 1. Criando um conjunto de dados simulado para parcelas subdivididas em DIC\n",
    "def load_splitplot_dic_example():\n",
    "    \"\"\"\n",
    "    Simula dados para um experimento de parcelas subdivididas em DIC.\n",
    "    \n",
    "    Fatores:\n",
    "        - Main plot: 'cultivar' (A, B)\n",
    "        - Subplot: 'adubo' (X, Y, Z)\n",
    "    \"\"\"\n",
    "    data = []\n",
    "    cultivares = ['A', 'B']\n",
    "    adubos = ['X', 'Y', 'Z']\n",
    "    replications = 4\n",
    "\n",
    "    valores = {\n",
    "        ('A', 'X'): [20.1, 19.8, 20.5, 19.9],\n",
    "        ('A', 'Y'): [21.3, 21.0, 21.5, 21.1],\n",
    "        ('A', 'Z'): [22.5, 22.7, 22.6, 22.9],\n",
    "        ('B', 'X'): [19.5, 19.6, 19.4, 19.8],\n",
    "        ('B', 'Y'): [21.0, 21.2, 20.9, 21.1],\n",
    "        ('B', 'Z'): [23.1, 23.3, 23.0, 23.2],\n",
    "    }\n",
    "\n",
    "    for (cult, adubo), obs in valores.items():\n",
    "        for i, y in enumerate(obs, start=1):\n",
    "            data.append({'repetition': i, 'cultivar': cult, 'adubo': adubo, 'produtividade': y})\n",
    "\n",
    "    df = pd.DataFrame(data)\n",
    "    description = {\n",
    "        \"response\": \"produtividade\",\n",
    "        \"main_plot\": \"cultivar\",\n",
    "        \"subplot\": \"adubo\"\n",
    "    }\n",
    "    return df, description\n",
    "\n",
    "# 📦 2. Carregando os dados\n",
    "df, desc = load_splitplot_dic_example()\n",
    "\n",
    "# 👨‍🔬 3. Inicializando o modelo de parcelas subdivididas em DIC\n",
    "model = SplitPlotDIC(\n",
    "    data=df,\n",
    "    response=desc[\"response\"],\n",
    "    main_plot=desc[\"main_plot\"],\n",
    "    subplot=desc[\"subplot\"]\n",
    ")\n",
    "\n",
    "# 📊 4. ANOVA\n",
    "anova_table = model.anova()\n",
    "print(\"📊 Tabela ANOVA:\")\n",
    "print(anova_table)\n",
    "\n",
    "# ✅ 5. Verificação de pressupostos\n",
    "print(\"\\n✅ Verificação de pressupostos:\")\n",
    "assumptions = model.check_assumptions()\n",
    "\n",
    "# 🔬 6. Desdobramento de interações e teste post hoc\n",
    "print(\"\\n🔍 Desdobramento das interações:\")\n",
    "resultados = model.unfold_interactions()"
   ]
  },
  {
   "cell_type": "code",
   "execution_count": null,
   "id": "567d90bd",
   "metadata": {},
   "outputs": [],
   "source": []
  }
 ],
 "metadata": {
  "kernelspec": {
   "display_name": ".venv",
   "language": "python",
   "name": "python3"
  },
  "language_info": {
   "codemirror_mode": {
    "name": "ipython",
    "version": 3
   },
   "file_extension": ".py",
   "mimetype": "text/x-python",
   "name": "python",
   "nbconvert_exporter": "python",
   "pygments_lexer": "ipython3",
   "version": "3.11.13"
  }
 },
 "nbformat": 4,
 "nbformat_minor": 5
}

{
 "cells": [
  {
   "cell_type": "code",
   "execution_count": 7,
   "id": "abf56db3",
   "metadata": {},
   "outputs": [],
   "source": [
    "import matplotlib.pyplot as plt\n",
    "from expdespy.datasets.dic_milho import load_dic_milho\n",
    "from expdespy.datasets.dbc_caprinos import load_dbc_caprinos\n",
    "from expdespy.models import DIC, DBC\n",
    "from expdespy.utils import get_summary\n"
   ]
  },
  {
   "cell_type": "markdown",
   "id": "99b4988f",
   "metadata": {},
   "source": [
    "# DIC (Delineamento Interamente ao Acaso)"
   ]
  },
  {
   "cell_type": "markdown",
   "id": "82483aeb",
   "metadata": {},
   "source": [
    "## Load the data"
   ]
  },
  {
   "cell_type": "code",
   "execution_count": 2,
   "id": "1dc899f7",
   "metadata": {},
   "outputs": [
    {
     "name": "stdout",
     "output_type": "stream",
     "text": [
      "### Exemplo DIC - Milho ###\n",
      "Descrição do dataset DIC:\n",
      "Experimento com 4 variedades de milho (A, B, C, D) distribuídas aleatoriamente em 20 parcelas (5 por variedade). A variável resposta é a produtividade em sacas por hectare. Usado para análise com DIC e testes de comparação múltipla.\n"
     ]
    }
   ],
   "source": [
    "print(\"### Exemplo DIC - Milho ###\")\n",
    "\n",
    "df_dic, desc_dic = load_dic_milho()\n",
    "print(\"Descrição do dataset DIC:\")\n",
    "print(desc_dic)"
   ]
  },
  {
   "cell_type": "code",
   "execution_count": 9,
   "id": "9763553b",
   "metadata": {},
   "outputs": [
    {
     "data": {
      "application/vnd.microsoft.datawrangler.viewer.v0+json": {
       "columns": [
        {
         "name": "index",
         "rawType": "int64",
         "type": "integer"
        },
        {
         "name": "variedade",
         "rawType": "object",
         "type": "string"
        },
        {
         "name": "produtividade",
         "rawType": "int64",
         "type": "integer"
        }
       ],
       "ref": "40210887-21b0-4dd1-8ac6-c5579b8b3f93",
       "rows": [
        [
         "0",
         "A",
         "25"
        ],
        [
         "1",
         "A",
         "26"
        ],
        [
         "2",
         "A",
         "20"
        ],
        [
         "3",
         "A",
         "23"
        ],
        [
         "4",
         "A",
         "21"
        ],
        [
         "5",
         "B",
         "31"
        ],
        [
         "6",
         "B",
         "25"
        ],
        [
         "7",
         "B",
         "28"
        ],
        [
         "8",
         "B",
         "27"
        ],
        [
         "9",
         "B",
         "24"
        ],
        [
         "10",
         "C",
         "22"
        ],
        [
         "11",
         "C",
         "26"
        ],
        [
         "12",
         "C",
         "28"
        ],
        [
         "13",
         "C",
         "25"
        ],
        [
         "14",
         "C",
         "29"
        ],
        [
         "15",
         "D",
         "33"
        ],
        [
         "16",
         "D",
         "29"
        ],
        [
         "17",
         "D",
         "31"
        ],
        [
         "18",
         "D",
         "34"
        ],
        [
         "19",
         "D",
         "28"
        ]
       ],
       "shape": {
        "columns": 2,
        "rows": 20
       }
      },
      "text/html": [
       "<div>\n",
       "<style scoped>\n",
       "    .dataframe tbody tr th:only-of-type {\n",
       "        vertical-align: middle;\n",
       "    }\n",
       "\n",
       "    .dataframe tbody tr th {\n",
       "        vertical-align: top;\n",
       "    }\n",
       "\n",
       "    .dataframe thead th {\n",
       "        text-align: right;\n",
       "    }\n",
       "</style>\n",
       "<table border=\"1\" class=\"dataframe\">\n",
       "  <thead>\n",
       "    <tr style=\"text-align: right;\">\n",
       "      <th></th>\n",
       "      <th>variedade</th>\n",
       "      <th>produtividade</th>\n",
       "    </tr>\n",
       "  </thead>\n",
       "  <tbody>\n",
       "    <tr>\n",
       "      <th>0</th>\n",
       "      <td>A</td>\n",
       "      <td>25</td>\n",
       "    </tr>\n",
       "    <tr>\n",
       "      <th>1</th>\n",
       "      <td>A</td>\n",
       "      <td>26</td>\n",
       "    </tr>\n",
       "    <tr>\n",
       "      <th>2</th>\n",
       "      <td>A</td>\n",
       "      <td>20</td>\n",
       "    </tr>\n",
       "    <tr>\n",
       "      <th>3</th>\n",
       "      <td>A</td>\n",
       "      <td>23</td>\n",
       "    </tr>\n",
       "    <tr>\n",
       "      <th>4</th>\n",
       "      <td>A</td>\n",
       "      <td>21</td>\n",
       "    </tr>\n",
       "    <tr>\n",
       "      <th>5</th>\n",
       "      <td>B</td>\n",
       "      <td>31</td>\n",
       "    </tr>\n",
       "    <tr>\n",
       "      <th>6</th>\n",
       "      <td>B</td>\n",
       "      <td>25</td>\n",
       "    </tr>\n",
       "    <tr>\n",
       "      <th>7</th>\n",
       "      <td>B</td>\n",
       "      <td>28</td>\n",
       "    </tr>\n",
       "    <tr>\n",
       "      <th>8</th>\n",
       "      <td>B</td>\n",
       "      <td>27</td>\n",
       "    </tr>\n",
       "    <tr>\n",
       "      <th>9</th>\n",
       "      <td>B</td>\n",
       "      <td>24</td>\n",
       "    </tr>\n",
       "    <tr>\n",
       "      <th>10</th>\n",
       "      <td>C</td>\n",
       "      <td>22</td>\n",
       "    </tr>\n",
       "    <tr>\n",
       "      <th>11</th>\n",
       "      <td>C</td>\n",
       "      <td>26</td>\n",
       "    </tr>\n",
       "    <tr>\n",
       "      <th>12</th>\n",
       "      <td>C</td>\n",
       "      <td>28</td>\n",
       "    </tr>\n",
       "    <tr>\n",
       "      <th>13</th>\n",
       "      <td>C</td>\n",
       "      <td>25</td>\n",
       "    </tr>\n",
       "    <tr>\n",
       "      <th>14</th>\n",
       "      <td>C</td>\n",
       "      <td>29</td>\n",
       "    </tr>\n",
       "    <tr>\n",
       "      <th>15</th>\n",
       "      <td>D</td>\n",
       "      <td>33</td>\n",
       "    </tr>\n",
       "    <tr>\n",
       "      <th>16</th>\n",
       "      <td>D</td>\n",
       "      <td>29</td>\n",
       "    </tr>\n",
       "    <tr>\n",
       "      <th>17</th>\n",
       "      <td>D</td>\n",
       "      <td>31</td>\n",
       "    </tr>\n",
       "    <tr>\n",
       "      <th>18</th>\n",
       "      <td>D</td>\n",
       "      <td>34</td>\n",
       "    </tr>\n",
       "    <tr>\n",
       "      <th>19</th>\n",
       "      <td>D</td>\n",
       "      <td>28</td>\n",
       "    </tr>\n",
       "  </tbody>\n",
       "</table>\n",
       "</div>"
      ],
      "text/plain": [
       "   variedade  produtividade\n",
       "0          A             25\n",
       "1          A             26\n",
       "2          A             20\n",
       "3          A             23\n",
       "4          A             21\n",
       "5          B             31\n",
       "6          B             25\n",
       "7          B             28\n",
       "8          B             27\n",
       "9          B             24\n",
       "10         C             22\n",
       "11         C             26\n",
       "12         C             28\n",
       "13         C             25\n",
       "14         C             29\n",
       "15         D             33\n",
       "16         D             29\n",
       "17         D             31\n",
       "18         D             34\n",
       "19         D             28"
      ]
     },
     "execution_count": 9,
     "metadata": {},
     "output_type": "execute_result"
    }
   ],
   "source": [
    "df_dic"
   ]
  },
  {
   "cell_type": "code",
   "execution_count": 8,
   "id": "c9a0000f",
   "metadata": {},
   "outputs": [
    {
     "data": {
      "application/vnd.microsoft.datawrangler.viewer.v0+json": {
       "columns": [
        {
         "name": "index",
         "rawType": "object",
         "type": "string"
        },
        {
         "name": "clumn_dtype",
         "rawType": "object",
         "type": "unknown"
        },
        {
         "name": "na",
         "rawType": "object",
         "type": "unknown"
        },
        {
         "name": "na_pct",
         "rawType": "object",
         "type": "unknown"
        },
        {
         "name": "top_class",
         "rawType": "object",
         "type": "unknown"
        },
        {
         "name": "top_class_pct",
         "rawType": "object",
         "type": "unknown"
        },
        {
         "name": "nunique",
         "rawType": "object",
         "type": "unknown"
        },
        {
         "name": "unique_values",
         "rawType": "object",
         "type": "unknown"
        }
       ],
       "ref": "cb467ae4-9fd2-4ec4-b626-d81c872e229d",
       "rows": [
        [
         "variedade",
         "object",
         "0",
         "0.0",
         "A",
         "25.0",
         "4",
         "['A', 'B', 'C', 'D']"
        ],
        [
         "produtividade",
         "int64",
         "0",
         "0.0",
         "25",
         "15.0",
         "13",
         "..."
        ]
       ],
       "shape": {
        "columns": 7,
        "rows": 2
       }
      },
      "text/html": [
       "<div>\n",
       "<style scoped>\n",
       "    .dataframe tbody tr th:only-of-type {\n",
       "        vertical-align: middle;\n",
       "    }\n",
       "\n",
       "    .dataframe tbody tr th {\n",
       "        vertical-align: top;\n",
       "    }\n",
       "\n",
       "    .dataframe thead th {\n",
       "        text-align: right;\n",
       "    }\n",
       "</style>\n",
       "<table border=\"1\" class=\"dataframe\">\n",
       "  <thead>\n",
       "    <tr style=\"text-align: right;\">\n",
       "      <th></th>\n",
       "      <th>clumn_dtype</th>\n",
       "      <th>na</th>\n",
       "      <th>na_pct</th>\n",
       "      <th>top_class</th>\n",
       "      <th>top_class_pct</th>\n",
       "      <th>nunique</th>\n",
       "      <th>unique_values</th>\n",
       "    </tr>\n",
       "  </thead>\n",
       "  <tbody>\n",
       "    <tr>\n",
       "      <th>variedade</th>\n",
       "      <td>object</td>\n",
       "      <td>0</td>\n",
       "      <td>0.0</td>\n",
       "      <td>A</td>\n",
       "      <td>25.0</td>\n",
       "      <td>4</td>\n",
       "      <td>[A, B, C, D]</td>\n",
       "    </tr>\n",
       "    <tr>\n",
       "      <th>produtividade</th>\n",
       "      <td>int64</td>\n",
       "      <td>0</td>\n",
       "      <td>0.0</td>\n",
       "      <td>25</td>\n",
       "      <td>15.0</td>\n",
       "      <td>13</td>\n",
       "      <td>...</td>\n",
       "    </tr>\n",
       "  </tbody>\n",
       "</table>\n",
       "</div>"
      ],
      "text/plain": [
       "              clumn_dtype na na_pct top_class top_class_pct nunique  \\\n",
       "variedade          object  0    0.0         A          25.0       4   \n",
       "produtividade       int64  0    0.0        25          15.0      13   \n",
       "\n",
       "              unique_values  \n",
       "variedade      [A, B, C, D]  \n",
       "produtividade           ...  "
      ]
     },
     "execution_count": 8,
     "metadata": {},
     "output_type": "execute_result"
    }
   ],
   "source": [
    "get_summary(df_dic)"
   ]
  },
  {
   "cell_type": "code",
   "execution_count": 10,
   "id": "e4264006",
   "metadata": {},
   "outputs": [
    {
     "name": "stdout",
     "output_type": "stream",
     "text": [
      "\n",
      "Tabela ANOVA DIC:\n",
      "              sum_sq    df         F    PR(>F)\n",
      "C(variedade)  163.75   3.0  7.797619  0.001976\n",
      "Residual      112.00  16.0       NaN       NaN\n"
     ]
    }
   ],
   "source": [
    "# Instanciar modelo\n",
    "dic_model = DIC(data=df_dic, response=\"produtividade\", treatment=\"variedade\")\n",
    "\n",
    "# ANOVA\n",
    "anova_result = dic_model.anova()\n",
    "print(\"\\nTabela ANOVA DIC:\")\n",
    "print(anova_result)"
   ]
  },
  {
   "cell_type": "code",
   "execution_count": null,
   "id": "461111c7",
   "metadata": {},
   "outputs": [
    {
     "name": "stdout",
     "output_type": "stream",
     "text": [
      "### Exemplo DIC - Milho ###\n",
      "Descrição do dataset DIC:\n",
      "Experimento com 4 variedades de milho (A, B, C, D) distribuídas aleatoriamente em 20 parcelas (5 por variedade). A variável resposta é a produtividade em sacas por hectare. Usado para análise com DIC e testes de comparação múltipla.\n",
      "\n",
      "Tabela ANOVA DIC:\n",
      "              sum_sq    df         F    PR(>F)\n",
      "C(variedade)  163.75   3.0  7.797619  0.001976\n",
      "Residual      112.00  16.0       NaN       NaN\n",
      "\n",
      "Pressupostos ANOVA:\n",
      "normality (Shapiro-Wilk): Aceito\n",
      "homoscedasticity (Levene): Aceito\n",
      "\n",
      "Teste post hoc (Tukey):\n",
      "  group1 group2  meandiff   p-adj   lower    upper  reject\n",
      "0      A      B       4.0  0.1192 -0.7874   8.7874   False\n",
      "1      A      C       3.0  0.3123 -1.7874   7.7874   False\n",
      "2      A      D       8.0  0.0011  3.2126  12.7874    True\n",
      "3      B      C      -1.0  0.9313 -5.7874   3.7874   False\n",
      "4      B      D       4.0  0.1192 -0.7874   8.7874   False\n",
      "5      C      D       5.0  0.0391  0.2126   9.7874    True\n"
     ]
    },
    {
     "data": {
      "image/png": "[encoded data removed]",
      "text/plain": [
       "<Figure size 640x480 with 1 Axes>"
      ]
     },
     "metadata": {},
     "output_type": "display_data"
    },
    {
     "name": "stdout",
     "output_type": "stream",
     "text": [
      "\n",
      "### Exemplo DBC - Caprinos ###\n",
      "Descrição do dataset DBC:\n",
      "Experimento com 5 produtos comerciais fornecidos a caprinos organizados em 3 blocos de acordo com a idade. A variável resposta é a concentração de micronutrientes no sangue (ppm). Usado para análise com DBC.\n",
      "\n",
      "Tabela ANOVA DBC:\n",
      "            sum_sq   df          F    PR(>F)\n",
      "C(produto)  3090.0  4.0  33.586957  0.000048\n",
      "C(bloco)    2770.0  2.0  60.217391  0.000015\n",
      "Residual     184.0  8.0        NaN       NaN\n",
      "\n",
      "Pressupostos ANOVA:\n",
      "normality (Shapiro-Wilk): Aceito\n",
      "homoscedasticity (Levene): Aceito\n",
      "\n",
      "Teste post hoc (Tukey):\n",
      "   group1  group2  meandiff   p-adj    lower    upper  reject\n",
      "0       1       2       5.0  0.9960 -41.1847  51.1847   False\n",
      "1       1       3      20.0  0.6269 -26.1847  66.1847   False\n",
      "2       1       4      25.0  0.4331 -21.1847  71.1847   False\n",
      "3       1       5      40.0  0.0986  -6.1847  86.1847   False\n",
      "4       2       3      15.0  0.8180 -31.1847  61.1847   False\n",
      "5       2       4      20.0  0.6269 -26.1847  66.1847   False\n",
      "6       2       5      35.0  0.1679 -11.1847  81.1847   False\n",
      "7       3       4       5.0  0.9960 -41.1847  51.1847   False\n",
      "8       3       5      20.0  0.6269 -26.1847  66.1847   False\n",
      "9       4       5      15.0  0.8180 -31.1847  61.1847   False\n"
     ]
    },
    {
     "data": {
      "image/png": "[encoded data removed]",
      "text/plain": [
       "<Figure size 640x480 with 1 Axes>"
      ]
     },
     "metadata": {},
     "output_type": "display_data"
    }
   ],
   "source": [
    "\n",
    "\n",
    "# Instanciar modelo\n",
    "dic_model = DIC(data=df_dic, response=\"produtividade\", treatment=\"variedade\")\n",
    "\n",
    "# ANOVA\n",
    "anova_result = dic_model.anova()\n",
    "print(\"\\nTabela ANOVA DIC:\")\n",
    "print(anova_result)\n",
    "\n",
    "# Verificar pressupostos\n",
    "assumptions = dic_model.check_assumptions()\n",
    "print(\"\\nPressupostos ANOVA:\")\n",
    "for k, v in assumptions.items():\n",
    "    print(f\"{k}: {'Aceito' if v else 'Rejeitado'}\")\n",
    "\n",
    "# Teste post hoc\n",
    "posthoc_res = dic_model.posthoc()\n",
    "print(\"\\nTeste post hoc (Tukey):\")\n",
    "print(posthoc_res)\n",
    "\n",
    "# Plot médias\n",
    "fig, ax = plt.subplots()\n",
    "dic_model.plot_means(ax=ax)\n",
    "ax.set_title(\"Médias por tratamento (DIC)\")\n",
    "plt.show()\n",
    "\n",
    "# 3. Exemplo DBC (Delineamento em Blocos Casualizados)\n",
    "\n",
    "print(\"\\n### Exemplo DBC - Caprinos ###\")\n",
    "\n",
    "# Carregar dados\n",
    "df_dbc, desc_dbc = load_dbc_caprinos()\n",
    "print(\"Descrição do dataset DBC:\")\n",
    "print(desc_dbc)\n",
    "\n",
    "# Instanciar modelo\n",
    "dbc_model = DBC(data=df_dbc, response=\"ppm_micronutriente\", treatment=\"produto\", block=\"bloco\")\n",
    "\n",
    "# ANOVA\n",
    "anova_result_dbc = dbc_model.anova()\n",
    "print(\"\\nTabela ANOVA DBC:\")\n",
    "print(anova_result_dbc)\n",
    "\n",
    "# Verificar pressupostos\n",
    "assumptions_dbc = dbc_model.check_assumptions()\n",
    "print(\"\\nPressupostos ANOVA:\")\n",
    "for k, v in assumptions_dbc.items():\n",
    "    print(f\"{k}: {'Aceito' if v else 'Rejeitado'}\")\n",
    "\n",
    "# Teste post hoc\n",
    "posthoc_res_dbc = dbc_model.posthoc()\n",
    "print(\"\\nTeste post hoc (Tukey):\")\n",
    "print(posthoc_res_dbc)\n",
    "\n",
    "# Plot médias\n",
    "fig, ax = plt.subplots()\n",
    "dbc_model.plot_means(ax=ax)\n",
    "ax.set_title(\"Médias por tratamento (DBC)\")\n",
    "plt.show()"
   ]
  }
 ],
 "metadata": {
  "kernelspec": {
   "display_name": ".venv",
   "language": "python",
   "name": "python3"
  },
  "language_info": {
   "codemirror_mode": {
    "name": "ipython",
    "version": 3
   },
   "file_extension": ".py",
   "mimetype": "text/x-python",
   "name": "python",
   "nbconvert_exporter": "python",
   "pygments_lexer": "ipython3",
   "version": "3.10.10"
  }
 },
 "nbformat": 4,
 "nbformat_minor": 5
}

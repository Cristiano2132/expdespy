{
 "cells": [
  {
   "cell_type": "markdown",
   "id": "ae0bc6fb",
   "metadata": {},
   "source": [
    "# ExpDesPy — Tutorial Completo\n",
    "\n",
    "_Gerado em 2025-08-15 02:14_\n",
    "\n",
    "> **Objetivo**: este notebook apresenta um passo‑a‑passo para usar o pacote **expdespy** em delineamentos clássicos (DIC, DBC, DQL), fatoriais, parcelas subdivididas (split‑plot), regressão polinomial para tratamentos quantitativos, diagnósticos e utilidades diversas.\n"
   ]
  },
  {
   "cell_type": "markdown",
   "id": "afee8f06",
   "metadata": {},
   "source": [
    "## Sumário\n",
    "1. [Instalação e importações](#instalacao)\n",
    "2. [Datasets de exemplo](#datasets)\n",
    "3. [Delineamentos clássicos](#classicos)\n",
    "   - [DIC](#dic)\n",
    "   - [DBC](#dbc)\n",
    "   - [DQL](#dql)\n",
    "4. [Delineamentos fatoriais](#fatoriais)\n",
    "   - [ANOVA e desdobramentos de interação](#fatoriais-anova)\n",
    "5. [Parcelas subdivididas (Split-Plot)](#splitplot)\n",
    "6. [Regressão polinomial (tratamentos quantitativos)](#regressao)\n",
    "   - [Ajuste, ANOVA, diagnóstico e gráficos](#regressao-detalhes)\n",
    "7. [Pós-testes (Tukey, t-test) e letras compactas](#posthoc)\n",
    "8. [Utilidades: get_summary e assign_letters](#utils)\n",
    "\n"
   ]
  },
  {
   "cell_type": "markdown",
   "id": "29234c51",
   "metadata": {},
   "source": [
    "<a id='instalacao'></a>\n",
    "\n",
    "## 1) Instalação e importações\n",
    "\n",
    "Se ainda não instalou o pacote:\n",
    "\n",
    "```bash\n",
    "pip install --index-url https://test.pypi.org/simple/ --extra-index-url https://pypi.org/simple expdespy\n",
    "```\n",
    "\n",
    "Depois, carregue os módulos principais:\n"
   ]
  },
  {
   "cell_type": "code",
   "execution_count": null,
   "id": "a262e77b",
   "metadata": {},
   "outputs": [],
   "source": [
    "import json\n",
    "import numpy as np\n",
    "import pandas as pd\n",
    "import matplotlib.pyplot as plt\n",
    "\n",
    "# Modelos (clássicos, fatoriais e parcelas)\n",
    "from expdespy.models import CRD, RCBD, LSD\n",
    "from expdespy.models.fatorial_dic import FactorialCRD\n",
    "from expdespy.models.fatorial_dbc import FactorialRCBD\n",
    "from expdespy.models.splitplot_dic import SplitPlotCRD\n",
    "from expdespy.models.splitplot_dbc import SplitPlotRCBD\n",
    "\n",
    "# Regressão\n",
    "from expdespy.regressao.polynomial import PolynomialRegression\n",
    "from expdespy.regressao import diagnostics as reg_diag\n",
    "\n",
    "# Pós-testes utilitários\n",
    "from expdespy.posthoc import PostHocLoader\n",
    "\n",
    "# Datasets\n",
    "from expdespy.datasets.dbc_caprinos import load_dbc_caprinos\n",
    "from expdespy.datasets.dic_milho import load_dic_milho\n",
    "from expdespy.datasets.dql_cana import load_dql_cana\n",
    "from expdespy.datasets.fatorial_dic_irrigacao import load_fatorial_dic\n",
    "from expdespy.datasets.fatorial_dic_nitrogenio_fosforo import load_fatorial_dic_nitrogenio_fosforo\n",
    "from expdespy.datasets.fatorial_dbc_np import load_fatorial_rcbd_np\n",
    "from expdespy.datasets.splitplot_dataset import load_splitplot_dic, load_splitplot_dbc\n",
    "\n",
    "# Utils\n",
    "from expdespy.utils.utils import get_summary, assign_letters\n",
    "\n",
    "np.random.seed(123)  # reprodutibilidade dos exemplos\n"
   ]
  },
  {
   "cell_type": "markdown",
   "id": "fbd87133",
   "metadata": {},
   "source": [
    "<a id='datasets'></a>\n",
    "\n",
    "## 2) Datasets de exemplo\n",
    "\n",
    "O pacote inclui alguns datasets sintéticos para demonstração.\n"
   ]
  },
  {
   "cell_type": "code",
   "execution_count": null,
   "id": "970cb29f",
   "metadata": {},
   "outputs": [
    {
     "name": "stdout",
     "output_type": "stream",
     "text": [
      "DBC (caprinos) — colunas: ['bloco', 'produto', 'ppm_micronutriente']\n",
      "DIC (milho)    — colunas: ['variedade', 'produtividade']\n",
      "DQL (cana)     — colunas: ['linha', 'coluna', 'tratamento', 'resposta']\n",
      "Fatorial DIC   — colunas: ['f1', 'f2', 'produtividade']\n",
      "Fatorial DIC NF— colunas: ['f1', 'f2', 'produtividade']\n",
      "Fatorial DBC   — colunas: ['block', 'N', 'P', 'produtividade']\n",
      "Split-Plot     — colunas: ['cultivar', 'adubo', 'produtividade']\n"
     ]
    },
    {
     "data": {
      "application/vnd.microsoft.datawrangler.viewer.v0+json": {
       "columns": [
        {
         "name": "index",
         "rawType": "int64",
         "type": "integer"
        },
        {
         "name": "bloco",
         "rawType": "int64",
         "type": "integer"
        },
        {
         "name": "produto",
         "rawType": "int64",
         "type": "integer"
        },
        {
         "name": "ppm_micronutriente",
         "rawType": "int64",
         "type": "integer"
        }
       ],
       "ref": "92aaa536-1427-4869-9ac6-5c308250b4a2",
       "rows": [
        [
         "0",
         "1",
         "1",
         "83"
        ],
        [
         "1",
         "1",
         "2",
         "86"
        ],
        [
         "2",
         "1",
         "3",
         "103"
        ],
        [
         "3",
         "1",
         "4",
         "116"
        ],
        [
         "4",
         "1",
         "5",
         "132"
        ]
       ],
       "shape": {
        "columns": 3,
        "rows": 5
       }
      },
      "text/html": [
       "<div>\n",
       "<style scoped>\n",
       "    .dataframe tbody tr th:only-of-type {\n",
       "        vertical-align: middle;\n",
       "    }\n",
       "\n",
       "    .dataframe tbody tr th {\n",
       "        vertical-align: top;\n",
       "    }\n",
       "\n",
       "    .dataframe thead th {\n",
       "        text-align: right;\n",
       "    }\n",
       "</style>\n",
       "<table border=\"1\" class=\"dataframe\">\n",
       "  <thead>\n",
       "    <tr style=\"text-align: right;\">\n",
       "      <th></th>\n",
       "      <th>bloco</th>\n",
       "      <th>produto</th>\n",
       "      <th>ppm_micronutriente</th>\n",
       "    </tr>\n",
       "  </thead>\n",
       "  <tbody>\n",
       "    <tr>\n",
       "      <th>0</th>\n",
       "      <td>1</td>\n",
       "      <td>1</td>\n",
       "      <td>83</td>\n",
       "    </tr>\n",
       "    <tr>\n",
       "      <th>1</th>\n",
       "      <td>1</td>\n",
       "      <td>2</td>\n",
       "      <td>86</td>\n",
       "    </tr>\n",
       "    <tr>\n",
       "      <th>2</th>\n",
       "      <td>1</td>\n",
       "      <td>3</td>\n",
       "      <td>103</td>\n",
       "    </tr>\n",
       "    <tr>\n",
       "      <th>3</th>\n",
       "      <td>1</td>\n",
       "      <td>4</td>\n",
       "      <td>116</td>\n",
       "    </tr>\n",
       "    <tr>\n",
       "      <th>4</th>\n",
       "      <td>1</td>\n",
       "      <td>5</td>\n",
       "      <td>132</td>\n",
       "    </tr>\n",
       "  </tbody>\n",
       "</table>\n",
       "</div>"
      ],
      "text/plain": [
       "   bloco  produto  ppm_micronutriente\n",
       "0      1        1                  83\n",
       "1      1        2                  86\n",
       "2      1        3                 103\n",
       "3      1        4                 116\n",
       "4      1        5                 132"
      ]
     },
     "execution_count": 33,
     "metadata": {},
     "output_type": "execute_result"
    }
   ],
   "source": [
    "df_dbc, meta_dbc = load_dbc_caprinos()\n",
    "df_dic, meta_dic = load_dic_milho()\n",
    "df_dql, meta_dql = load_dql_cana()\n",
    "df_fat_dic, meta_fat_dic = load_fatorial_dic()\n",
    "df_fat_dic_nf, meta_fat_dic_nf = load_fatorial_dic_nitrogenio_fosforo()\n",
    "df_fat_dbc, meta_fat_dbc = load_fatorial_rcbd_np()\n",
    "df_sp, meta_sp = load_splitplot_dic()\n",
    "\n",
    "print(\"RCBD (caprinos) — colunas:\", df_dbc.columns.tolist())\n",
    "print(\"CRD (milho)    — colunas:\", df_dic.columns.tolist())\n",
    "print(\"LSD (cana)     — colunas:\", df_dql.columns.tolist())\n",
    "print(\"Fatorial CRD   — colunas:\", df_fat_dic.columns.tolist())\n",
    "print(\"Fatorial CRD NF— colunas:\", df_fat_dic_nf.columns.tolist())\n",
    "print(\"Fatorial RCBD   — colunas:\", df_fat_dbc.columns.tolist())\n",
    "print(\"Split-Plot     — colunas:\", df_sp.columns.tolist())\n",
    "\n",
    "df_dbc.head()"
   ]
  },
  {
   "cell_type": "markdown",
   "id": "9a811002",
   "metadata": {},
   "source": [
    "<a id='classicos'></a>\n",
    "\n",
    "## 3) Delineamentos clássicos\n",
    "\n",
    "Nesta seção, rodamos **ANOVA** e verificações de pressupostos nos delineamentos clássicos.\n",
    "Os métodos seguem a mesma interface: `anova()`, `check_assumptions()`. Há ainda métodos\n",
    "de pós-teste via `PostHocLoader` quando pertinente.\n"
   ]
  },
  {
   "cell_type": "markdown",
   "id": "7b3024a4",
   "metadata": {},
   "source": [
    "<a id='dic'></a>\n",
    "\n",
    "### 3.1) DIC — Delineamento Inteiramente Casualizado"
   ]
  },
  {
   "cell_type": "code",
   "execution_count": 34,
   "id": "7d2a0706",
   "metadata": {},
   "outputs": [
    {
     "name": "stdout",
     "output_type": "stream",
     "text": [
      "Response: produtividade\n",
      "Treatment: variedade\n",
      "DataFrame Head:\n",
      "  variedade  produtividade\n",
      "0         A             25\n",
      "1         A             26\n",
      "2         A             20\n",
      "3         A             23\n",
      "4         A             21\n"
     ]
    }
   ],
   "source": [
    "df, meta = df_dic, meta_dic\n",
    "response = meta['response']\n",
    "trat = meta['trat']\n",
    "print(\"Response:\", response)\n",
    "print(\"Treatment:\", trat)\n",
    "print(\"DataFrame Head:\")\n",
    "print(df.head())"
   ]
  },
  {
   "cell_type": "code",
   "execution_count": null,
   "id": "e226ca4d",
   "metadata": {},
   "outputs": [
    {
     "name": "stdout",
     "output_type": "stream",
     "text": [
      "              sum_sq    df         F    PR(>F) Signif\n",
      "C(variedade)  163.75   3.0  7.797619  0.001976     **\n",
      "Residual      112.00  16.0       NaN       NaN       \n",
      "{\n",
      "  \"normality (Shapiro-Wilk)\": {\n",
      "    \"H0\": \"The residuals are normally distributed\",\n",
      "    \"H1\": \"The residuals are not normally distributed\",\n",
      "    \"p-value\": 0.2358735765866306,\n",
      "    \"Conclusion\": \"H0 must not be rejected\"\n",
      "  },\n",
      "  \"homoscedasticity (Levene)\": {\n",
      "    \"H0\": \"The variances of the groups are equal\",\n",
      "    \"H1\": \"The variances of the groups are not equal\",\n",
      "    \"p-value\": 1.0,\n",
      "    \"Conclusion\": \"H0 must not be rejected\"\n",
      "  }\n",
      "}\n"
     ]
    }
   ],
   "source": [
    "# Usando o dataset CRD de milho\n",
    "model_dic = CRD(data=df, response=response, treatment=trat)\n",
    "anova_dic = model_dic.anova()\n",
    "assum_dic = model_dic.check_assumptions(print_conclusions=False)\n",
    "\n",
    "print(anova_dic)\n",
    "\n",
    "print(json.dumps(assum_dic, indent=2, ensure_ascii=False)) "
   ]
  },
  {
   "cell_type": "markdown",
   "id": "a05a8d8a",
   "metadata": {},
   "source": [
    "<a id='dbc'></a>\n",
    "\n",
    "### 3.2) DBC — Delineamento em Blocos Casualizados"
   ]
  },
  {
   "cell_type": "code",
   "execution_count": null,
   "id": "96009bd5",
   "metadata": {},
   "outputs": [
    {
     "name": "stdout",
     "output_type": "stream",
     "text": [
      "            sum_sq   df          F    PR(>F) Signif\n",
      "C(produto)  3090.0  4.0  33.586957  0.000048    ***\n",
      "C(bloco)    2770.0  2.0  60.217391  0.000015    ***\n",
      "Residual     184.0  8.0        NaN       NaN       \n",
      "{\n",
      "  \"normality (Shapiro-Wilk)\": {\n",
      "    \"H0\": \"The residuals are normally distributed\",\n",
      "    \"H1\": \"The residuals are not normally distributed\",\n",
      "    \"p-value\": 0.2591356395863862,\n",
      "    \"Conclusion\": \"H0 must not be rejected\"\n",
      "  },\n",
      "  \"homoscedasticity (Levene)\": {\n",
      "    \"H0\": \"The variances of the groups are equal\",\n",
      "    \"H1\": \"The variances of the groups are not equal\",\n",
      "    \"p-value\": NaN,\n",
      "    \"Conclusion\": \"H0 must be rejected\"\n",
      "  }\n",
      "}\n"
     ]
    },
    {
     "name": "stderr",
     "output_type": "stream",
     "text": [
      "/Users/cristianooliveira/Documents/expdespy/.venv/lib/python3.11/site-packages/scipy/stats/_morestats.py:3310: RuntimeWarning: invalid value encountered in scalar divide\n",
      "  W = numer / denom\n"
     ]
    }
   ],
   "source": [
    "df, meta = df_dbc, meta_dbc\n",
    "response = meta['response']\n",
    "treatment = meta['trat']\n",
    "model_dbc = RCBD(data=df, response=response, treatment=treatment, block='bloco')\n",
    "anova_dbc = model_dbc.anova()\n",
    "assum_dbc = model_dbc.check_assumptions(print_conclusions=False)\n",
    "\n",
    "print(anova_dbc)\n",
    "print(json.dumps(assum_dbc, indent=2, ensure_ascii=False))"
   ]
  },
  {
   "cell_type": "markdown",
   "id": "3d671e0a",
   "metadata": {},
   "source": [
    "<a id='dql'></a>\n",
    "\n",
    "### 3.3) DQL — Delineamento em Quadrado Latino"
   ]
  },
  {
   "cell_type": "code",
   "execution_count": null,
   "id": "cd1c0d79",
   "metadata": {},
   "outputs": [
    {
     "name": "stdout",
     "output_type": "stream",
     "text": [
      "                  sum_sq    df          F    PR(>F) Signif\n",
      "C(tratamento)  137488.24   4.0  12.090520  0.000358    ***\n",
      "C(linha)        30480.64   4.0   2.680424  0.083134     ns\n",
      "C(coluna)       55640.64   4.0   4.892959  0.014229      *\n",
      "Residual        34114.72  12.0        NaN       NaN       \n",
      "{\n",
      "  \"normality (Shapiro-Wilk)\": {\n",
      "    \"H0\": \"The residuals are normally distributed\",\n",
      "    \"H1\": \"The residuals are not normally distributed\",\n",
      "    \"p-value\": 0.8201574512719092,\n",
      "    \"Conclusion\": \"H0 must not be rejected\"\n",
      "  },\n",
      "  \"homoscedasticity (Levene)\": {\n",
      "    \"H0\": \"The variances of the groups are equal\",\n",
      "    \"H1\": \"The variances of the groups are not equal\",\n",
      "    \"p-value\": NaN,\n",
      "    \"Conclusion\": \"H0 must be rejected\"\n",
      "  }\n",
      "}\n"
     ]
    },
    {
     "name": "stderr",
     "output_type": "stream",
     "text": [
      "/Users/cristianooliveira/Documents/expdespy/.venv/lib/python3.11/site-packages/scipy/stats/_morestats.py:3310: RuntimeWarning: invalid value encountered in scalar divide\n",
      "  W = numer / denom\n"
     ]
    }
   ],
   "source": [
    "df, meta = df_dql, meta_dql\n",
    "response = meta['response']\n",
    "treatment = meta['trat']\n",
    "row = meta['rows']\n",
    "cols = meta['cols']\n",
    "model_dql = LSD(data=df, response=response, treatment=treatment, block_row=row, block_col=cols)\n",
    "anova_dql = model_dql.anova()\n",
    "assum_dql = model_dql.check_assumptions(print_conclusions=False)\n",
    "\n",
    "print(anova_dql)\n",
    "print(json.dumps(assum_dql, indent=2, ensure_ascii=False))\n"
   ]
  },
  {
   "cell_type": "markdown",
   "id": "b190b009",
   "metadata": {},
   "source": [
    "<a id='fatoriais'></a>\n",
    "\n",
    "## 4) Delineamentos fatoriais\n",
    "\n",
    "Vamos analisar fatoriais tanto em DIC quanto DBC. A API permite rodar ANOVA com marcador de significância\n",
    "e, quando há interação significativa, desdobrar as interações e aplicar pós-testes automaticamente.\n"
   ]
  },
  {
   "cell_type": "markdown",
   "id": "01e39907",
   "metadata": {},
   "source": [
    "<a id='fatoriais-anova'></a>\n",
    "\n",
    "### 4.1) Fatorial em DIC"
   ]
  },
  {
   "cell_type": "code",
   "execution_count": null,
   "id": "3b91b1b8",
   "metadata": {},
   "outputs": [
    {
     "data": {
      "application/vnd.microsoft.datawrangler.viewer.v0+json": {
       "columns": [
        {
         "name": "index",
         "rawType": "object",
         "type": "string"
        },
        {
         "name": "sum_sq",
         "rawType": "float64",
         "type": "float"
        },
        {
         "name": "df",
         "rawType": "float64",
         "type": "float"
        },
        {
         "name": "F",
         "rawType": "float64",
         "type": "float"
        },
        {
         "name": "PR(>F)",
         "rawType": "float64",
         "type": "float"
        },
        {
         "name": "Signif",
         "rawType": "object",
         "type": "string"
        }
       ],
       "ref": "bf6ac1eb-8a58-4f49-b131-26256106df8c",
       "rows": [
        [
         "C(f1)",
         "1199.9999999999993",
         "1.0",
         "88.88888888888884",
         "1.3152097325821565e-05",
         "***"
        ],
        [
         "C(f2)",
         "587.9999999999983",
         "1.0",
         "43.55555555555543",
         "0.0001694460357027004",
         "***"
        ],
        [
         "C(f1):C(f2)",
         "299.9999999999992",
         "1.0",
         "22.222222222222165",
         "0.001513749798213666",
         "**"
        ],
        [
         "Residual",
         "108.0",
         "8.0",
         null,
         null,
         ""
        ]
       ],
       "shape": {
        "columns": 5,
        "rows": 4
       }
      },
      "text/html": [
       "<div>\n",
       "<style scoped>\n",
       "    .dataframe tbody tr th:only-of-type {\n",
       "        vertical-align: middle;\n",
       "    }\n",
       "\n",
       "    .dataframe tbody tr th {\n",
       "        vertical-align: top;\n",
       "    }\n",
       "\n",
       "    .dataframe thead th {\n",
       "        text-align: right;\n",
       "    }\n",
       "</style>\n",
       "<table border=\"1\" class=\"dataframe\">\n",
       "  <thead>\n",
       "    <tr style=\"text-align: right;\">\n",
       "      <th></th>\n",
       "      <th>sum_sq</th>\n",
       "      <th>df</th>\n",
       "      <th>F</th>\n",
       "      <th>PR(&gt;F)</th>\n",
       "      <th>Signif</th>\n",
       "    </tr>\n",
       "  </thead>\n",
       "  <tbody>\n",
       "    <tr>\n",
       "      <th>C(f1)</th>\n",
       "      <td>1200.0</td>\n",
       "      <td>1.0</td>\n",
       "      <td>88.888889</td>\n",
       "      <td>0.000013</td>\n",
       "      <td>***</td>\n",
       "    </tr>\n",
       "    <tr>\n",
       "      <th>C(f2)</th>\n",
       "      <td>588.0</td>\n",
       "      <td>1.0</td>\n",
       "      <td>43.555556</td>\n",
       "      <td>0.000169</td>\n",
       "      <td>***</td>\n",
       "    </tr>\n",
       "    <tr>\n",
       "      <th>C(f1):C(f2)</th>\n",
       "      <td>300.0</td>\n",
       "      <td>1.0</td>\n",
       "      <td>22.222222</td>\n",
       "      <td>0.001514</td>\n",
       "      <td>**</td>\n",
       "    </tr>\n",
       "    <tr>\n",
       "      <th>Residual</th>\n",
       "      <td>108.0</td>\n",
       "      <td>8.0</td>\n",
       "      <td>NaN</td>\n",
       "      <td>NaN</td>\n",
       "      <td></td>\n",
       "    </tr>\n",
       "  </tbody>\n",
       "</table>\n",
       "</div>"
      ],
      "text/plain": [
       "             sum_sq   df          F    PR(>F) Signif\n",
       "C(f1)        1200.0  1.0  88.888889  0.000013    ***\n",
       "C(f2)         588.0  1.0  43.555556  0.000169    ***\n",
       "C(f1):C(f2)   300.0  1.0  22.222222  0.001514     **\n",
       "Residual      108.0  8.0        NaN       NaN       "
      ]
     },
     "metadata": {},
     "output_type": "display_data"
    },
    {
     "data": {
      "text/plain": [
       "dict_keys(['anova', 'main_effects', 'interactions'])"
      ]
     },
     "execution_count": 39,
     "metadata": {},
     "output_type": "execute_result"
    }
   ],
   "source": [
    "df, meta = df_fat_dic, meta_fat_dic\n",
    "\n",
    "fat_dic = FactorialCRD(data=df, response=meta['response'], factors=meta['factors'])\n",
    "anova_fat_dic = fat_dic.run_anova()  # inclui coluna \"Signif\"\n",
    "display(anova_fat_dic)\n",
    "\n",
    "# Desdobramento condicional: aplica post hoc quando não há interação ou desdobra quando há\n",
    "res_unfold_dic = fat_dic.unfold_interactions(alpha=0.05, print_results=False, posthoc=\"tukey\")\n",
    "res_unfold_dic.keys()"
   ]
  },
  {
   "cell_type": "markdown",
   "id": "8d68e1ad",
   "metadata": {},
   "source": [
    "### 4.2) Fatorial em DBC"
   ]
  },
  {
   "cell_type": "code",
   "execution_count": 41,
   "id": "d431b8a1",
   "metadata": {},
   "outputs": [
    {
     "data": {
      "text/plain": [
       "{'description': '\\n        Dados de um experimento fatorial 2×2 em delineamento em blocos completos (RCBD),\\n        com 5 repetições por combinação de fatores.\\n        Fatores:\\n            N (fator A): 0 (baixo), 1 (alto)\\n            P (fator B): 0 (baixo), 1 (alto)\\n    ',\n",
       " 'response': 'produtividade',\n",
       " 'factors': ['N', 'P'],\n",
       " 'blocks': 'block',\n",
       " 'source': 'Exemplo fictício'}"
      ]
     },
     "execution_count": 41,
     "metadata": {},
     "output_type": "execute_result"
    }
   ],
   "source": [
    "meta"
   ]
  },
  {
   "cell_type": "code",
   "execution_count": null,
   "id": "483262db",
   "metadata": {},
   "outputs": [
    {
     "data": {
      "application/vnd.microsoft.datawrangler.viewer.v0+json": {
       "columns": [
        {
         "name": "index",
         "rawType": "object",
         "type": "string"
        },
        {
         "name": "sum_sq",
         "rawType": "float64",
         "type": "float"
        },
        {
         "name": "df",
         "rawType": "float64",
         "type": "float"
        },
        {
         "name": "F",
         "rawType": "float64",
         "type": "float"
        },
        {
         "name": "PR(>F)",
         "rawType": "float64",
         "type": "float"
        },
        {
         "name": "Signif",
         "rawType": "object",
         "type": "string"
        }
       ],
       "ref": "2f8ada13-aafd-4c70-9f67-3938034ebf7e",
       "rows": [
        [
         "C(N)",
         "16.38049999999996",
         "1.0",
         "21.293656296039487",
         "0.00033714810815018765",
         "***"
        ],
        [
         "C(P)",
         "13.284499999999998",
         "1.0",
         "17.269044111274823",
         "0.0008454780557328824",
         "***"
        ],
        [
         "C(N):C(P)",
         "3.612499999999995",
         "1.0",
         "4.6960308518935765",
         "0.04673948995318057",
         "*"
        ],
        [
         "block",
         "0.1209999999999957",
         "1.0",
         "0.15729265967587636",
         "0.6972465726190793",
         "ns"
        ],
        [
         "Residual",
         "11.538999999999987",
         "15.0",
         null,
         null,
         ""
        ]
       ],
       "shape": {
        "columns": 5,
        "rows": 5
       }
      },
      "text/html": [
       "<div>\n",
       "<style scoped>\n",
       "    .dataframe tbody tr th:only-of-type {\n",
       "        vertical-align: middle;\n",
       "    }\n",
       "\n",
       "    .dataframe tbody tr th {\n",
       "        vertical-align: top;\n",
       "    }\n",
       "\n",
       "    .dataframe thead th {\n",
       "        text-align: right;\n",
       "    }\n",
       "</style>\n",
       "<table border=\"1\" class=\"dataframe\">\n",
       "  <thead>\n",
       "    <tr style=\"text-align: right;\">\n",
       "      <th></th>\n",
       "      <th>sum_sq</th>\n",
       "      <th>df</th>\n",
       "      <th>F</th>\n",
       "      <th>PR(&gt;F)</th>\n",
       "      <th>Signif</th>\n",
       "    </tr>\n",
       "  </thead>\n",
       "  <tbody>\n",
       "    <tr>\n",
       "      <th>C(N)</th>\n",
       "      <td>16.3805</td>\n",
       "      <td>1.0</td>\n",
       "      <td>21.293656</td>\n",
       "      <td>0.000337</td>\n",
       "      <td>***</td>\n",
       "    </tr>\n",
       "    <tr>\n",
       "      <th>C(P)</th>\n",
       "      <td>13.2845</td>\n",
       "      <td>1.0</td>\n",
       "      <td>17.269044</td>\n",
       "      <td>0.000845</td>\n",
       "      <td>***</td>\n",
       "    </tr>\n",
       "    <tr>\n",
       "      <th>C(N):C(P)</th>\n",
       "      <td>3.6125</td>\n",
       "      <td>1.0</td>\n",
       "      <td>4.696031</td>\n",
       "      <td>0.046739</td>\n",
       "      <td>*</td>\n",
       "    </tr>\n",
       "    <tr>\n",
       "      <th>block</th>\n",
       "      <td>0.1210</td>\n",
       "      <td>1.0</td>\n",
       "      <td>0.157293</td>\n",
       "      <td>0.697247</td>\n",
       "      <td>ns</td>\n",
       "    </tr>\n",
       "    <tr>\n",
       "      <th>Residual</th>\n",
       "      <td>11.5390</td>\n",
       "      <td>15.0</td>\n",
       "      <td>NaN</td>\n",
       "      <td>NaN</td>\n",
       "      <td></td>\n",
       "    </tr>\n",
       "  </tbody>\n",
       "</table>\n",
       "</div>"
      ],
      "text/plain": [
       "            sum_sq    df          F    PR(>F) Signif\n",
       "C(N)       16.3805   1.0  21.293656  0.000337    ***\n",
       "C(P)       13.2845   1.0  17.269044  0.000845    ***\n",
       "C(N):C(P)   3.6125   1.0   4.696031  0.046739      *\n",
       "block       0.1210   1.0   0.157293  0.697247     ns\n",
       "Residual   11.5390  15.0        NaN       NaN       "
      ]
     },
     "metadata": {},
     "output_type": "display_data"
    },
    {
     "data": {
      "text/plain": [
       "dict_keys(['anova', 'main_effects', 'interactions'])"
      ]
     },
     "execution_count": 42,
     "metadata": {},
     "output_type": "execute_result"
    }
   ],
   "source": [
    "df, meta = df_fat_dbc, meta_fat_dbc\n",
    "\n",
    "fat_dbc = FactorialRCBD(data=df, response=meta['response'], factors=meta['factors'], block='block')\n",
    "anova_fat_dbc = fat_dbc.run_anova()\n",
    "display(anova_fat_dbc)\n",
    "\n",
    "res_unfold_dbc = fat_dbc.unfold_interactions(alpha=0.05, print_results=False, posthoc=\"tukey\")\n",
    "res_unfold_dbc.keys()"
   ]
  },
  {
   "cell_type": "markdown",
   "id": "fd1a3aa7",
   "metadata": {},
   "source": [
    "<a id='splitplot'></a>\n",
    "\n",
    "## 5) Parcelas subdivididas (Split‑Plot)\n",
    "\n",
    "Exemplo de análise com parcela principal e subparcela. A API também provê `run_anova()` e `unfold_interactions()`.\n"
   ]
  },
  {
   "cell_type": "code",
   "execution_count": null,
   "id": "834a6e4a",
   "metadata": {},
   "outputs": [
    {
     "data": {
      "application/vnd.microsoft.datawrangler.viewer.v0+json": {
       "columns": [
        {
         "name": "index",
         "rawType": "object",
         "type": "string"
        },
        {
         "name": "sum_sq",
         "rawType": "float64",
         "type": "float"
        },
        {
         "name": "df",
         "rawType": "float64",
         "type": "float"
        },
        {
         "name": "F",
         "rawType": "float64",
         "type": "float"
        },
        {
         "name": "PR(>F)",
         "rawType": "float64",
         "type": "float"
        },
        {
         "name": "Signif",
         "rawType": "object",
         "type": "string"
        }
       ],
       "ref": "0cf3d919-5087-454d-9a24-4f9f0f41bec4",
       "rows": [
        [
         "C(cultivar)",
         "11.842222222222402",
         "1.0",
         "101.50476190476334",
         "3.303507671277317e-07",
         "***"
        ],
        [
         "C(adubo)",
         "41.204444444444455",
         "2.0",
         "176.59047619047607",
         "1.2590378165473e-09",
         "***"
        ],
        [
         "C(cultivar):C(adubo)",
         "3.017777777777777",
         "2.0",
         "12.93333333333332",
         "0.0010128497292842904",
         "**"
        ],
        [
         "Residual",
         "1.4000000000000012",
         "12.0",
         null,
         null,
         ""
        ]
       ],
       "shape": {
        "columns": 5,
        "rows": 4
       }
      },
      "text/html": [
       "<div>\n",
       "<style scoped>\n",
       "    .dataframe tbody tr th:only-of-type {\n",
       "        vertical-align: middle;\n",
       "    }\n",
       "\n",
       "    .dataframe tbody tr th {\n",
       "        vertical-align: top;\n",
       "    }\n",
       "\n",
       "    .dataframe thead th {\n",
       "        text-align: right;\n",
       "    }\n",
       "</style>\n",
       "<table border=\"1\" class=\"dataframe\">\n",
       "  <thead>\n",
       "    <tr style=\"text-align: right;\">\n",
       "      <th></th>\n",
       "      <th>sum_sq</th>\n",
       "      <th>df</th>\n",
       "      <th>F</th>\n",
       "      <th>PR(&gt;F)</th>\n",
       "      <th>Signif</th>\n",
       "    </tr>\n",
       "  </thead>\n",
       "  <tbody>\n",
       "    <tr>\n",
       "      <th>C(cultivar)</th>\n",
       "      <td>11.842222</td>\n",
       "      <td>1.0</td>\n",
       "      <td>101.504762</td>\n",
       "      <td>3.303508e-07</td>\n",
       "      <td>***</td>\n",
       "    </tr>\n",
       "    <tr>\n",
       "      <th>C(adubo)</th>\n",
       "      <td>41.204444</td>\n",
       "      <td>2.0</td>\n",
       "      <td>176.590476</td>\n",
       "      <td>1.259038e-09</td>\n",
       "      <td>***</td>\n",
       "    </tr>\n",
       "    <tr>\n",
       "      <th>C(cultivar):C(adubo)</th>\n",
       "      <td>3.017778</td>\n",
       "      <td>2.0</td>\n",
       "      <td>12.933333</td>\n",
       "      <td>1.012850e-03</td>\n",
       "      <td>**</td>\n",
       "    </tr>\n",
       "    <tr>\n",
       "      <th>Residual</th>\n",
       "      <td>1.400000</td>\n",
       "      <td>12.0</td>\n",
       "      <td>NaN</td>\n",
       "      <td>NaN</td>\n",
       "      <td></td>\n",
       "    </tr>\n",
       "  </tbody>\n",
       "</table>\n",
       "</div>"
      ],
      "text/plain": [
       "                         sum_sq    df           F        PR(>F) Signif\n",
       "C(cultivar)           11.842222   1.0  101.504762  3.303508e-07    ***\n",
       "C(adubo)              41.204444   2.0  176.590476  1.259038e-09    ***\n",
       "C(cultivar):C(adubo)   3.017778   2.0   12.933333  1.012850e-03     **\n",
       "Residual               1.400000  12.0         NaN           NaN       "
      ]
     },
     "metadata": {},
     "output_type": "display_data"
    },
    {
     "data": {
      "text/plain": [
       "dict_keys(['anova', 'main_effects', 'interactions'])"
      ]
     },
     "execution_count": 43,
     "metadata": {},
     "output_type": "execute_result"
    }
   ],
   "source": [
    "df, meta = df_sp, meta_sp\n",
    "\n",
    "sp_dic = SplitPlotCRD(data=df, response=meta['response'],\n",
    "                    main_plot=meta['main_plot'], subplot=meta['subplot'])\n",
    "anova_sp = sp_dic.run_anova()\n",
    "display(anova_sp)\n",
    "\n",
    "res_sp = sp_dic.unfold_interactions(alpha=0.05, print_results=False, posthoc=\"tukey\")\n",
    "res_sp.keys()"
   ]
  },
  {
   "cell_type": "markdown",
   "id": "0d00b6c9",
   "metadata": {},
   "source": [
    "<a id='regressao'></a>\n",
    "\n",
    "## 6) Regressão polinomial (tratamentos quantitativos)\n",
    "\n",
    "Para tratamentos quantitativos, usamos `PolynomialRegression`. A fórmula usa termos criados como `dose`, `dose^2`, etc.\n",
    "Os diagnósticos ficam no módulo `expdespy.regressao.diagnostics`.\n"
   ]
  },
  {
   "cell_type": "code",
   "execution_count": 44,
   "id": "eabff1c2",
   "metadata": {},
   "outputs": [
    {
     "data": {
      "application/vnd.microsoft.datawrangler.viewer.v0+json": {
       "columns": [
        {
         "name": "index",
         "rawType": "object",
         "type": "string"
        },
        {
         "name": "df",
         "rawType": "float64",
         "type": "float"
        },
        {
         "name": "sum_sq",
         "rawType": "float64",
         "type": "float"
        },
        {
         "name": "mean_sq",
         "rawType": "float64",
         "type": "float"
        },
        {
         "name": "F",
         "rawType": "float64",
         "type": "float"
        },
        {
         "name": "PR(>F)",
         "rawType": "float64",
         "type": "float"
        }
       ],
       "ref": "939da559-3a68-4e21-a875-510ae7a85d5e",
       "rows": [
        [
         "Q('dose')",
         "1.0",
         "244.2603571428572",
         "244.2603571428572",
         "8046.223529411768",
         "9.259921740982179e-08"
        ],
        [
         "Q('dose^2')",
         "1.0",
         "9.266785714285717",
         "9.266785714285717",
         "305.2588235294119",
         "6.300704599701805e-05"
        ],
        [
         "Residual",
         "4.0",
         "0.1214285714285714",
         "0.03035714285714285",
         null,
         null
        ]
       ],
       "shape": {
        "columns": 5,
        "rows": 3
       }
      },
      "text/html": [
       "<div>\n",
       "<style scoped>\n",
       "    .dataframe tbody tr th:only-of-type {\n",
       "        vertical-align: middle;\n",
       "    }\n",
       "\n",
       "    .dataframe tbody tr th {\n",
       "        vertical-align: top;\n",
       "    }\n",
       "\n",
       "    .dataframe thead th {\n",
       "        text-align: right;\n",
       "    }\n",
       "</style>\n",
       "<table border=\"1\" class=\"dataframe\">\n",
       "  <thead>\n",
       "    <tr style=\"text-align: right;\">\n",
       "      <th></th>\n",
       "      <th>df</th>\n",
       "      <th>sum_sq</th>\n",
       "      <th>mean_sq</th>\n",
       "      <th>F</th>\n",
       "      <th>PR(&gt;F)</th>\n",
       "    </tr>\n",
       "  </thead>\n",
       "  <tbody>\n",
       "    <tr>\n",
       "      <th>Q('dose')</th>\n",
       "      <td>1.0</td>\n",
       "      <td>244.260357</td>\n",
       "      <td>244.260357</td>\n",
       "      <td>8046.223529</td>\n",
       "      <td>9.259922e-08</td>\n",
       "    </tr>\n",
       "    <tr>\n",
       "      <th>Q('dose^2')</th>\n",
       "      <td>1.0</td>\n",
       "      <td>9.266786</td>\n",
       "      <td>9.266786</td>\n",
       "      <td>305.258824</td>\n",
       "      <td>6.300705e-05</td>\n",
       "    </tr>\n",
       "    <tr>\n",
       "      <th>Residual</th>\n",
       "      <td>4.0</td>\n",
       "      <td>0.121429</td>\n",
       "      <td>0.030357</td>\n",
       "      <td>NaN</td>\n",
       "      <td>NaN</td>\n",
       "    </tr>\n",
       "  </tbody>\n",
       "</table>\n",
       "</div>"
      ],
      "text/plain": [
       "              df      sum_sq     mean_sq            F        PR(>F)\n",
       "Q('dose')    1.0  244.260357  244.260357  8046.223529  9.259922e-08\n",
       "Q('dose^2')  1.0    9.266786    9.266786   305.258824  6.300705e-05\n",
       "Residual     4.0    0.121429    0.030357          NaN           NaN"
      ]
     },
     "metadata": {},
     "output_type": "display_data"
    },
    {
     "name": "stderr",
     "output_type": "stream",
     "text": [
      "/Users/cristianooliveira/Documents/expdespy/.venv/lib/python3.11/site-packages/statsmodels/stats/stattools.py:74: ValueWarning: omni_normtest is not valid with less than 8 observations; 7 samples were given.\n",
      "  warn(\"omni_normtest is not valid with less than 8 observations; %i \"\n"
     ]
    },
    {
     "data": {
      "text/html": [
       "<table class=\"simpletable\">\n",
       "<caption>OLS Regression Results</caption>\n",
       "<tr>\n",
       "  <th>Dep. Variable:</th>       <td>Q('yield')</td>    <th>  R-squared:         </th> <td>   1.000</td>\n",
       "</tr>\n",
       "<tr>\n",
       "  <th>Model:</th>                   <td>OLS</td>       <th>  Adj. R-squared:    </th> <td>   0.999</td>\n",
       "</tr>\n",
       "<tr>\n",
       "  <th>Method:</th>             <td>Least Squares</td>  <th>  F-statistic:       </th> <td>   4176.</td>\n",
       "</tr>\n",
       "<tr>\n",
       "  <th>Date:</th>             <td>Fri, 15 Aug 2025</td> <th>  Prob (F-statistic):</th> <td>2.29e-07</td>\n",
       "</tr>\n",
       "<tr>\n",
       "  <th>Time:</th>                 <td>17:02:55</td>     <th>  Log-Likelihood:    </th> <td>  4.2576</td>\n",
       "</tr>\n",
       "<tr>\n",
       "  <th>No. Observations:</th>      <td>     7</td>      <th>  AIC:               </th> <td>  -2.515</td>\n",
       "</tr>\n",
       "<tr>\n",
       "  <th>Df Residuals:</th>          <td>     4</td>      <th>  BIC:               </th> <td>  -2.678</td>\n",
       "</tr>\n",
       "<tr>\n",
       "  <th>Df Model:</th>              <td>     2</td>      <th>                     </th>     <td> </td>   \n",
       "</tr>\n",
       "<tr>\n",
       "  <th>Covariance Type:</th>      <td>nonrobust</td>    <th>                     </th>     <td> </td>   \n",
       "</tr>\n",
       "</table>\n",
       "<table class=\"simpletable\">\n",
       "<tr>\n",
       "       <td></td>          <th>coef</th>     <th>std err</th>      <th>t</th>      <th>P>|t|</th>  <th>[0.025</th>    <th>0.975]</th>  \n",
       "</tr>\n",
       "<tr>\n",
       "  <th>Intercept</th>   <td>    3.1143</td> <td>    0.152</td> <td>   20.478</td> <td> 0.000</td> <td>    2.692</td> <td>    3.537</td>\n",
       "</tr>\n",
       "<tr>\n",
       "  <th>Q('dose')</th>   <td>    0.9607</td> <td>    0.119</td> <td>    8.092</td> <td> 0.001</td> <td>    0.631</td> <td>    1.290</td>\n",
       "</tr>\n",
       "<tr>\n",
       "  <th>Q('dose^2')</th> <td>    0.3321</td> <td>    0.019</td> <td>   17.472</td> <td> 0.000</td> <td>    0.279</td> <td>    0.385</td>\n",
       "</tr>\n",
       "</table>\n",
       "<table class=\"simpletable\">\n",
       "<tr>\n",
       "  <th>Omnibus:</th>       <td>   nan</td> <th>  Durbin-Watson:     </th> <td>   1.961</td>\n",
       "</tr>\n",
       "<tr>\n",
       "  <th>Prob(Omnibus):</th> <td>   nan</td> <th>  Jarque-Bera (JB):  </th> <td>   0.549</td>\n",
       "</tr>\n",
       "<tr>\n",
       "  <th>Skew:</th>          <td>-0.311</td> <th>  Prob(JB):          </th> <td>   0.760</td>\n",
       "</tr>\n",
       "<tr>\n",
       "  <th>Kurtosis:</th>      <td> 1.777</td> <th>  Cond. No.          </th> <td>    51.2</td>\n",
       "</tr>\n",
       "</table><br/><br/>Notes:<br/>[1] Standard Errors assume that the covariance matrix of the errors is correctly specified."
      ],
      "text/latex": [
       "\\begin{center}\n",
       "\\begin{tabular}{lclc}\n",
       "\\toprule\n",
       "\\textbf{Dep. Variable:}    &    Q('yield')    & \\textbf{  R-squared:         } &     1.000   \\\\\n",
       "\\textbf{Model:}            &       OLS        & \\textbf{  Adj. R-squared:    } &     0.999   \\\\\n",
       "\\textbf{Method:}           &  Least Squares   & \\textbf{  F-statistic:       } &     4176.   \\\\\n",
       "\\textbf{Date:}             & Fri, 15 Aug 2025 & \\textbf{  Prob (F-statistic):} &  2.29e-07   \\\\\n",
       "\\textbf{Time:}             &     17:02:55     & \\textbf{  Log-Likelihood:    } &    4.2576   \\\\\n",
       "\\textbf{No. Observations:} &           7      & \\textbf{  AIC:               } &    -2.515   \\\\\n",
       "\\textbf{Df Residuals:}     &           4      & \\textbf{  BIC:               } &    -2.678   \\\\\n",
       "\\textbf{Df Model:}         &           2      & \\textbf{                     } &             \\\\\n",
       "\\textbf{Covariance Type:}  &    nonrobust     & \\textbf{                     } &             \\\\\n",
       "\\bottomrule\n",
       "\\end{tabular}\n",
       "\\begin{tabular}{lcccccc}\n",
       "                     & \\textbf{coef} & \\textbf{std err} & \\textbf{t} & \\textbf{P$> |$t$|$} & \\textbf{[0.025} & \\textbf{0.975]}  \\\\\n",
       "\\midrule\n",
       "\\textbf{Intercept}   &       3.1143  &        0.152     &    20.478  &         0.000        &        2.692    &        3.537     \\\\\n",
       "\\textbf{Q('dose')}   &       0.9607  &        0.119     &     8.092  &         0.001        &        0.631    &        1.290     \\\\\n",
       "\\textbf{Q('dose^2')} &       0.3321  &        0.019     &    17.472  &         0.000        &        0.279    &        0.385     \\\\\n",
       "\\bottomrule\n",
       "\\end{tabular}\n",
       "\\begin{tabular}{lclc}\n",
       "\\textbf{Omnibus:}       &    nan & \\textbf{  Durbin-Watson:     } &    1.961  \\\\\n",
       "\\textbf{Prob(Omnibus):} &    nan & \\textbf{  Jarque-Bera (JB):  } &    0.549  \\\\\n",
       "\\textbf{Skew:}          & -0.311 & \\textbf{  Prob(JB):          } &    0.760  \\\\\n",
       "\\textbf{Kurtosis:}      &  1.777 & \\textbf{  Cond. No.          } &     51.2  \\\\\n",
       "\\bottomrule\n",
       "\\end{tabular}\n",
       "%\\caption{OLS Regression Results}\n",
       "\\end{center}\n",
       "\n",
       "Notes: \\newline\n",
       " [1] Standard Errors assume that the covariance matrix of the errors is correctly specified."
      ],
      "text/plain": [
       "<class 'statsmodels.iolib.summary.Summary'>\n",
       "\"\"\"\n",
       "                            OLS Regression Results                            \n",
       "==============================================================================\n",
       "Dep. Variable:             Q('yield')   R-squared:                       1.000\n",
       "Model:                            OLS   Adj. R-squared:                  0.999\n",
       "Method:                 Least Squares   F-statistic:                     4176.\n",
       "Date:                Fri, 15 Aug 2025   Prob (F-statistic):           2.29e-07\n",
       "Time:                        17:02:55   Log-Likelihood:                 4.2576\n",
       "No. Observations:                   7   AIC:                            -2.515\n",
       "Df Residuals:                       4   BIC:                            -2.678\n",
       "Df Model:                           2                                         \n",
       "Covariance Type:            nonrobust                                         \n",
       "===============================================================================\n",
       "                  coef    std err          t      P>|t|      [0.025      0.975]\n",
       "-------------------------------------------------------------------------------\n",
       "Intercept       3.1143      0.152     20.478      0.000       2.692       3.537\n",
       "Q('dose')       0.9607      0.119      8.092      0.001       0.631       1.290\n",
       "Q('dose^2')     0.3321      0.019     17.472      0.000       0.279       0.385\n",
       "==============================================================================\n",
       "Omnibus:                          nan   Durbin-Watson:                   1.961\n",
       "Prob(Omnibus):                    nan   Jarque-Bera (JB):                0.549\n",
       "Skew:                          -0.311   Prob(JB):                        0.760\n",
       "Kurtosis:                       1.777   Cond. No.                         51.2\n",
       "==============================================================================\n",
       "\n",
       "Notes:\n",
       "[1] Standard Errors assume that the covariance matrix of the errors is correctly specified.\n",
       "\"\"\""
      ]
     },
     "execution_count": 44,
     "metadata": {},
     "output_type": "execute_result"
    }
   ],
   "source": [
    "# Exemplo simples\n",
    "df_reg = pd.DataFrame({\n",
    "    \"dose\": [0, 1, 2, 3, 4, 5, 6],\n",
    "    \"yield\": [3.0, 4.5, 6.5, 9.0, 12.2, 16.0, 21.0]\n",
    "})\n",
    "\n",
    "reg = PolynomialRegression(data=df_reg, response=\"yield\", treatment=\"dose\")\n",
    "results = reg.fit(degree=2)  # quadrático\n",
    "display(reg.anova())\n",
    "results.summary()"
   ]
  },
  {
   "cell_type": "code",
   "execution_count": 45,
   "id": "8b00ee2b",
   "metadata": {},
   "outputs": [
    {
     "data": {
      "image/png": "[encoded data removed]",
      "text/plain": [
       "<Figure size 600x400 with 1 Axes>"
      ]
     },
     "metadata": {},
     "output_type": "display_data"
    },
    {
     "data": {
      "image/png": "[encoded data removed]",
      "text/plain": [
       "<Figure size 500x300 with 1 Axes>"
      ]
     },
     "metadata": {},
     "output_type": "display_data"
    },
    {
     "data": {
      "image/png": "[encoded data removed]",
      "text/plain": [
       "<Figure size 500x300 with 1 Axes>"
      ]
     },
     "metadata": {},
     "output_type": "display_data"
    },
    {
     "data": {
      "image/png": "[encoded data removed]",
      "text/plain": [
       "<Figure size 500x300 with 1 Axes>"
      ]
     },
     "metadata": {},
     "output_type": "display_data"
    },
    {
     "data": {
      "image/png": "[encoded data removed]",
      "text/plain": [
       "<Figure size 500x300 with 1 Axes>"
      ]
     },
     "metadata": {},
     "output_type": "display_data"
    },
    {
     "data": {
      "text/plain": [
       "{'shapiro': {'statistic': 0.9479803470716716, 'p_value': 0.7112847126691357},\n",
       " 'breusch_pagan': {'lm_stat': 2.670656510700221,\n",
       "  'lm_pvalue': 0.26307180655331264,\n",
       "  'f_stat': 1.2337466487937037,\n",
       "  'f_pvalue': 0.382514592823314},\n",
       " 'durbin_watson': 1.9609243697479002}"
      ]
     },
     "execution_count": 45,
     "metadata": {},
     "output_type": "execute_result"
    }
   ],
   "source": [
    "# Plot do ajuste usando o padrão \"ax\" do projeto\n",
    "fig, ax = plt.subplots(figsize=(6,4))\n",
    "reg.plot(ax=ax)\n",
    "plt.show()\n",
    "\n",
    "# Diagnósticos (cada função aceita 'ax' e retorna o mesmo Axes)\n",
    "fig, ax = plt.subplots(figsize=(5,3))\n",
    "reg_diag.plot_residuals_vs_fitted(results, ax=ax)\n",
    "plt.show()\n",
    "\n",
    "fig, ax = plt.subplots(figsize=(5,3))\n",
    "reg_diag.qq_plot_residuals(results, ax=ax)\n",
    "plt.show()\n",
    "\n",
    "fig, ax = plt.subplots(figsize=(5,3))\n",
    "reg_diag.plot_residual_hist(results, ax=ax)\n",
    "plt.show()\n",
    "\n",
    "fig, ax = plt.subplots(figsize=(5,3))\n",
    "reg_diag.cooks_distance_plot(results, ax=ax)\n",
    "plt.show()\n",
    "\n",
    "# Testes numéricos\n",
    "{\n",
    "    \"shapiro\": reg_diag.shapiro_test(results),\n",
    "    \"breusch_pagan\": reg_diag.breusch_pagan_test(results),\n",
    "    \"durbin_watson\": reg_diag.durbin_watson_test(results)\n",
    "}"
   ]
  },
  {
   "cell_type": "markdown",
   "id": "d0865c8a",
   "metadata": {},
   "source": [
    "<a id='posthoc'></a>\n",
    "\n",
    "## 7) Pós-testes (Tukey, t-test) e letras compactas\n",
    "\n",
    "Os pós-testes são acessíveis via `PostHocLoader.create(...)`. Exemplo com Tukey:\n"
   ]
  },
  {
   "cell_type": "code",
   "execution_count": null,
   "id": "14c97bbd",
   "metadata": {},
   "outputs": [
    {
     "data": {
      "application/vnd.microsoft.datawrangler.viewer.v0+json": {
       "columns": [
        {
         "name": "index",
         "rawType": "int64",
         "type": "integer"
        },
        {
         "name": "variedade",
         "rawType": "object",
         "type": "string"
        },
        {
         "name": "Mean",
         "rawType": "float64",
         "type": "float"
        },
        {
         "name": "Letters",
         "rawType": "object",
         "type": "string"
        }
       ],
       "ref": "b28a789b-b63b-41f4-af38-89e3805ebc09",
       "rows": [
        [
         "3",
         "D",
         "31.0",
         "a"
        ],
        [
         "1",
         "B",
         "27.0",
         "ab"
        ],
        [
         "2",
         "C",
         "26.0",
         "b"
        ],
        [
         "0",
         "A",
         "23.0",
         "b"
        ]
       ],
       "shape": {
        "columns": 3,
        "rows": 4
       }
      },
      "text/html": [
       "<div>\n",
       "<style scoped>\n",
       "    .dataframe tbody tr th:only-of-type {\n",
       "        vertical-align: middle;\n",
       "    }\n",
       "\n",
       "    .dataframe tbody tr th {\n",
       "        vertical-align: top;\n",
       "    }\n",
       "\n",
       "    .dataframe thead th {\n",
       "        text-align: right;\n",
       "    }\n",
       "</style>\n",
       "<table border=\"1\" class=\"dataframe\">\n",
       "  <thead>\n",
       "    <tr style=\"text-align: right;\">\n",
       "      <th></th>\n",
       "      <th>variedade</th>\n",
       "      <th>Mean</th>\n",
       "      <th>Letters</th>\n",
       "    </tr>\n",
       "  </thead>\n",
       "  <tbody>\n",
       "    <tr>\n",
       "      <th>3</th>\n",
       "      <td>D</td>\n",
       "      <td>31.0</td>\n",
       "      <td>a</td>\n",
       "    </tr>\n",
       "    <tr>\n",
       "      <th>1</th>\n",
       "      <td>B</td>\n",
       "      <td>27.0</td>\n",
       "      <td>ab</td>\n",
       "    </tr>\n",
       "    <tr>\n",
       "      <th>2</th>\n",
       "      <td>C</td>\n",
       "      <td>26.0</td>\n",
       "      <td>b</td>\n",
       "    </tr>\n",
       "    <tr>\n",
       "      <th>0</th>\n",
       "      <td>A</td>\n",
       "      <td>23.0</td>\n",
       "      <td>b</td>\n",
       "    </tr>\n",
       "  </tbody>\n",
       "</table>\n",
       "</div>"
      ],
      "text/plain": [
       "  variedade  Mean Letters\n",
       "3         D  31.0       a\n",
       "1         B  27.0      ab\n",
       "2         C  26.0       b\n",
       "0         A  23.0       b"
      ]
     },
     "execution_count": 48,
     "metadata": {},
     "output_type": "execute_result"
    }
   ],
   "source": [
    "# Exemplo: aplicar Tukey no dataset CRD (tratamentos categóricos)\n",
    "df, meta = df_dic, meta_dic\n",
    "\n",
    "tukey = PostHocLoader.create(\n",
    "    test_name=\"tukey\",\n",
    "    data=df,\n",
    "    values_column=meta['response'],\n",
    "    treatments_column=meta['trat'],\n",
    "    alpha=0.05\n",
    ")\n",
    "\n",
    "letters = tukey.run_compact_letters_display()\n",
    "letters"
   ]
  },
  {
   "cell_type": "markdown",
   "id": "e4983c91",
   "metadata": {},
   "source": [
    "<a id='utils'></a>\n",
    "\n",
    "## 8) Utilidades: `get_summary` e `assign_letters`\n",
    "\n",
    "- `get_summary(df)`: sumariza colunas (tipo, NA, top class, etc.).  \n",
    "- `assign_letters(...)`: constrói **Compact Letter Display** a partir de uma tabela de comparações pós‑hoc.\n"
   ]
  },
  {
   "cell_type": "code",
   "execution_count": 49,
   "id": "f43d8e55",
   "metadata": {},
   "outputs": [
    {
     "data": {
      "application/vnd.microsoft.datawrangler.viewer.v0+json": {
       "columns": [
        {
         "name": "Group",
         "rawType": "object",
         "type": "string"
        },
        {
         "name": "Letters",
         "rawType": "object",
         "type": "string"
        }
       ],
       "ref": "a81ab0f4-a3af-424b-bc69-82acf0e61ce4",
       "rows": [
        [
         "T1",
         "ab"
        ],
        [
         "T2",
         "a"
        ],
        [
         "T3",
         "b"
        ]
       ],
       "shape": {
        "columns": 1,
        "rows": 3
       }
      },
      "text/html": [
       "<div>\n",
       "<style scoped>\n",
       "    .dataframe tbody tr th:only-of-type {\n",
       "        vertical-align: middle;\n",
       "    }\n",
       "\n",
       "    .dataframe tbody tr th {\n",
       "        vertical-align: top;\n",
       "    }\n",
       "\n",
       "    .dataframe thead th {\n",
       "        text-align: right;\n",
       "    }\n",
       "</style>\n",
       "<table border=\"1\" class=\"dataframe\">\n",
       "  <thead>\n",
       "    <tr style=\"text-align: right;\">\n",
       "      <th></th>\n",
       "      <th>Letters</th>\n",
       "    </tr>\n",
       "    <tr>\n",
       "      <th>Group</th>\n",
       "      <th></th>\n",
       "    </tr>\n",
       "  </thead>\n",
       "  <tbody>\n",
       "    <tr>\n",
       "      <th>T1</th>\n",
       "      <td>ab</td>\n",
       "    </tr>\n",
       "    <tr>\n",
       "      <th>T2</th>\n",
       "      <td>a</td>\n",
       "    </tr>\n",
       "    <tr>\n",
       "      <th>T3</th>\n",
       "      <td>b</td>\n",
       "    </tr>\n",
       "  </tbody>\n",
       "</table>\n",
       "</div>"
      ],
      "text/plain": [
       "      Letters\n",
       "Group        \n",
       "T1         ab\n",
       "T2          a\n",
       "T3          b"
      ]
     },
     "execution_count": 49,
     "metadata": {},
     "output_type": "execute_result"
    }
   ],
   "source": [
    "# get_summary\n",
    "summary = get_summary(df_dic)\n",
    "summary\n",
    "\n",
    "# Exemplo mínimo de assign_letters (dados fictícios de pós-hoc)\n",
    "df_ph = pd.DataFrame({\n",
    "    \"A\": [\"T1\", \"T1\", \"T2\"],\n",
    "    \"B\": [\"T2\", \"T3\", \"T3\"],\n",
    "    \"p\": [0.08, 0.20, 0.03],  # T1 vs T2 (ns), T1 vs T3 (ns), T2 vs T3 (sig)\n",
    "})\n",
    "assign_letters(df_ph, G1=\"A\", G2=\"B\", P=\"p\")"
   ]
  }
 ],
 "metadata": {
  "kernelspec": {
   "display_name": ".venv",
   "language": "python",
   "name": "python3"
  },
  "language_info": {
   "codemirror_mode": {
    "name": "ipython",
    "version": 3
   },
   "file_extension": ".py",
   "mimetype": "text/x-python",
   "name": "python",
   "nbconvert_exporter": "python",
   "pygments_lexer": "ipython3",
   "version": "3.11.13"
  }
 },
 "nbformat": 4,
 "nbformat_minor": 5
}
